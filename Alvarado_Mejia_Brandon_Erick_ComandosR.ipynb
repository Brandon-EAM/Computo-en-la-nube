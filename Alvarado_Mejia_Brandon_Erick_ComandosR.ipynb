{
  "nbformat": 4,
  "nbformat_minor": 0,
  "metadata": {
    "colab": {
      "provenance": [],
      "collapsed_sections": [
        "3rbKLLd6QazT",
        "Ohab-iI7QcOB",
        "fXheewitQcbB",
        "YVqrk-OQkZ4t",
        "zSJoxZ6ukaPK",
        "vomL71kfkaab",
        "50qzBqjPkalB",
        "MoORpkZfkawy",
        "P42jQG0xwyFB",
        "bfIAphf1wyQS",
        "4mZIksizwybK",
        "OS4bX5bawylm",
        "4nKg7NKewyvj",
        "YL82B6zPGOTx",
        "vrSA-HkQGOjS",
        "rAdogCbeGOui",
        "j_AeOR_yGO6i",
        "Q22GZ_rSGPE-"
      ]
    },
    "kernelspec": {
      "name": "ir",
      "display_name": "R"
    },
    "language_info": {
      "name": "R"
    }
  },
  "cells": [
    {
      "cell_type": "markdown",
      "source": [
        "## Alumno y No. de Control: Brandon Erick Alvarado Mejia No.: 2021690025\n",
        "\n",
        "## Docente: Jessica Sarahí Méndez Rincón\n",
        "\n",
        "## Materia: Cómputo en la Nube\n",
        "\n",
        "## Carrera: Ingeniería en Inteligencia Artificial\n",
        "\n",
        "## Grupo: 07-IIA-01\n",
        "\n",
        "## Lugar y fecha de entrega: San Buenaventura, Coahuila a 14 de Octubre del 2023."
      ],
      "metadata": {
        "id": "VhKrCv4UKUy4"
      }
    },
    {
      "cell_type": "markdown",
      "source": [
        "### Ejemplo de ejecución"
      ],
      "metadata": {
        "id": "3rbKLLd6QazT"
      }
    },
    {
      "cell_type": "code",
      "execution_count": null,
      "metadata": {
        "colab": {
          "base_uri": "https://localhost:8080/",
          "height": 437
        },
        "id": "cko-JqUbQJ-f",
        "outputId": "6bd2d978-54a0-492b-9509-6e34fd335f9e"
      },
      "outputs": [
        {
          "output_type": "display_data",
          "data": {
            "text/plain": [
              "Plot with title “Histogram of estatura”"
            ],
            "image/png": "[encoded data removed]"
          },
          "metadata": {
            "image/png": {
              "width": 420,
              "height": 420
            }
          }
        }
      ],
      "source": [
        "estatura <- rnorm(n=50, mean=170, sd=10)\n",
        "hist(estatura, col='pink', xlab='Estatura (cm)', ylab='Frecuencia')"
      ]
    },
    {
      "cell_type": "markdown",
      "source": [
        "# Ayuda"
      ],
      "metadata": {
        "id": "Ohab-iI7QcOB"
      }
    },
    {
      "cell_type": "code",
      "source": [
        "help(\"sum\")\n",
        "?sum"
      ],
      "metadata": {
        "id": "KChYDtLoQcUe"
      },
      "execution_count": null,
      "outputs": []
    },
    {
      "cell_type": "markdown",
      "source": [
        "#Valores númericos y aritmética"
      ],
      "metadata": {
        "id": "fXheewitQcbB"
      }
    },
    {
      "cell_type": "code",
      "source": [
        "# Suma simple: 1 + 1\n",
        "1 + 1\n",
        "\n",
        "# Multiplicación simple: 2 * 2\n",
        "2 * 2\n",
        "\n",
        "# Suma y división: 2 + 10 / 5\n",
        "2 + 10 / 5\n",
        "\n",
        "# Uso de paréntesis para priorizar la suma antes de la división: (2 + 10) / 5\n",
        "(2 + 10) / 5\n",
        "\n",
        "# Potenciación: 10 elevado a la 2 más 1\n",
        "10^2 + 1\n",
        "\n",
        "# Cálculo de la raíz cuadrada: la raíz cuadrada de 9\n",
        "sqrt(9)\n",
        "\n",
        "# Uso de la constante pi (π). La precisión completa no se muestra en la impresión.\n",
        "pi\n",
        "\n",
        "# Imprimir la constante pi con mayor precisión especificando el número de dígitos.\n",
        "print(pi, digits = 22)\n",
        "\n",
        "# Cálculo del seno de pi. Esto debería ser cercano a cero, pero debido a la precisión limitada, no es exactamente cero.\n",
        "sin(pi)\n",
        "\n",
        "# Cálculo del logaritmo natural (base e) de 100.\n",
        "log(100)\n",
        "\n",
        "# Cálculo del logaritmo base 10 de 100.\n",
        "log10(100)\n",
        "\n",
        "# Cálculo del logaritmo base 2 de 8.\n",
        "log2(8)\n",
        "\n",
        "# Cálculo de e elevado a la 1.\n",
        "exp(1)"
      ],
      "metadata": {
        "colab": {
          "base_uri": "https://localhost:8080/",
          "height": 238
        },
        "id": "exwey3zYQch5",
        "outputId": "88cac018-badb-44c7-c85e-66f26561dc20"
      },
      "execution_count": null,
      "outputs": [
        {
          "output_type": "display_data",
          "data": {
            "text/html": [
              "2"
            ],
            "text/markdown": "2",
            "text/latex": "2",
            "text/plain": [
              "[1] 2"
            ]
          },
          "metadata": {}
        },
        {
          "output_type": "display_data",
          "data": {
            "text/html": [
              "4"
            ],
            "text/markdown": "4",
            "text/latex": "4",
            "text/plain": [
              "[1] 4"
            ]
          },
          "metadata": {}
        },
        {
          "output_type": "display_data",
          "data": {
            "text/html": [
              "4"
            ],
            "text/markdown": "4",
            "text/latex": "4",
            "text/plain": [
              "[1] 4"
            ]
          },
          "metadata": {}
        },
        {
          "output_type": "display_data",
          "data": {
            "text/html": [
              "2.4"
            ],
            "text/markdown": "2.4",
            "text/latex": "2.4",
            "text/plain": [
              "[1] 2.4"
            ]
          },
          "metadata": {}
        },
        {
          "output_type": "display_data",
          "data": {
            "text/html": [
              "101"
            ],
            "text/markdown": "101",
            "text/latex": "101",
            "text/plain": [
              "[1] 101"
            ]
          },
          "metadata": {}
        },
        {
          "output_type": "display_data",
          "data": {
            "text/html": [
              "3"
            ],
            "text/markdown": "3",
            "text/latex": "3",
            "text/plain": [
              "[1] 3"
            ]
          },
          "metadata": {}
        },
        {
          "output_type": "display_data",
          "data": {
            "text/html": [
              "3.14159265358979"
            ],
            "text/markdown": "3.14159265358979",
            "text/latex": "3.14159265358979",
            "text/plain": [
              "[1] 3.141593"
            ]
          },
          "metadata": {}
        },
        {
          "output_type": "stream",
          "name": "stdout",
          "text": [
            "[1] 3.141592653589793115998\n"
          ]
        },
        {
          "output_type": "display_data",
          "data": {
            "text/html": [
              "1.22464679914735e-16"
            ],
            "text/markdown": "1.22464679914735e-16",
            "text/latex": "1.22464679914735e-16",
            "text/plain": [
              "[1] 1.224647e-16"
            ]
          },
          "metadata": {}
        },
        {
          "output_type": "display_data",
          "data": {
            "text/html": [
              "4.60517018598809"
            ],
            "text/markdown": "4.60517018598809",
            "text/latex": "4.60517018598809",
            "text/plain": [
              "[1] 4.60517"
            ]
          },
          "metadata": {}
        },
        {
          "output_type": "display_data",
          "data": {
            "text/html": [
              "2"
            ],
            "text/markdown": "2",
            "text/latex": "2",
            "text/plain": [
              "[1] 2"
            ]
          },
          "metadata": {}
        },
        {
          "output_type": "display_data",
          "data": {
            "text/html": [
              "3"
            ],
            "text/markdown": "3",
            "text/latex": "3",
            "text/plain": [
              "[1] 3"
            ]
          },
          "metadata": {}
        },
        {
          "output_type": "display_data",
          "data": {
            "text/html": [
              "2.71828182845905"
            ],
            "text/markdown": "2.71828182845905",
            "text/latex": "2.71828182845905",
            "text/plain": [
              "[1] 2.718282"
            ]
          },
          "metadata": {}
        }
      ]
    },
    {
      "cell_type": "markdown",
      "source": [
        "## Variables"
      ],
      "metadata": {
        "id": "GtNHIvMERhC6"
      }
    },
    {
      "cell_type": "code",
      "source": [
        "# Asignar el valor 1 a la variable 'a'\n",
        "a <- 1\n",
        "\n",
        "# Sumar 'a' y 1, y mostrar el resultado (2) en la salida\n",
        "a + 1\n",
        "## [1] 2\n",
        "\n",
        "# Mostrar el valor de la variable 'a' (1)\n",
        "a\n",
        "## [1] 1\n",
        "\n",
        "# Asignar el valor 10 a la variable 'b'\n",
        "b <- 10\n",
        "\n",
        "# Sumar 'a' y 'b', luego asignar el resultado a 'b' y mostrar el nuevo valor de 'b' (11)\n",
        "b <- a + b\n",
        "b\n",
        "## [1] 11\n",
        "\n",
        "# Realizar una multiplicación de números en notación científica (3e-2 es igual a 0.03) y mostrar el resultado (0.06)\n",
        "3e-2 * 2.0\n",
        "## [1] 0.06"
      ],
      "metadata": {
        "id": "qb-yYwLtRhU6",
        "colab": {
          "base_uri": "https://localhost:8080/",
          "height": 85
        },
        "outputId": "becbef1f-978a-48ba-ad3e-76962c34f725"
      },
      "execution_count": null,
      "outputs": [
        {
          "output_type": "display_data",
          "data": {
            "text/html": [
              "2"
            ],
            "text/markdown": "2",
            "text/latex": "2",
            "text/plain": [
              "[1] 2"
            ]
          },
          "metadata": {}
        },
        {
          "output_type": "display_data",
          "data": {
            "text/html": [
              "1"
            ],
            "text/markdown": "1",
            "text/latex": "1",
            "text/plain": [
              "[1] 1"
            ]
          },
          "metadata": {}
        },
        {
          "output_type": "display_data",
          "data": {
            "text/html": [
              "11"
            ],
            "text/markdown": "11",
            "text/latex": "11",
            "text/plain": [
              "[1] 11"
            ]
          },
          "metadata": {}
        },
        {
          "output_type": "display_data",
          "data": {
            "text/html": [
              "0.06"
            ],
            "text/markdown": "0.06",
            "text/latex": "0.06",
            "text/plain": [
              "[1] 0.06"
            ]
          },
          "metadata": {}
        }
      ]
    },
    {
      "cell_type": "markdown",
      "source": [
        "## Tipos de datos"
      ],
      "metadata": {
        "id": "m9pFYuCoRhci"
      }
    },
    {
      "cell_type": "code",
      "source": [
        "# Utilizando la función mode() para verificar el tipo de dato de 1, que es un número entero.\n",
        "mode(1)\n",
        "## [1] \"numeric\"\n",
        "\n",
        "# Asignando el valor 1 a la variable 'a'.\n",
        "a <- 1\n",
        "\n",
        "# Usando la función is.numeric() para verificar si 'a' es de tipo numérico, lo cual es verdadero.\n",
        "is.numeric(a)\n",
        "## [1] TRUE\n",
        "\n",
        "# Usando la función is.numeric() para verificar si 1L (entero largo) es de tipo numérico, lo cual es verdadero.\n",
        "is.numeric(1L)\n",
        "## [1] TRUE\n",
        "\n",
        "# Usando la función is.integer() para verificar si 1L es de tipo entero, lo cual es verdadero.\n",
        "is.integer(1L)\n",
        "## [1] TRUE\n",
        "\n",
        "# Usando la función is.double() para verificar si 1L es de tipo double (decimal), lo cual es falso.\n",
        "is.double(1L)\n",
        "## [1] FALSE"
      ],
      "metadata": {
        "id": "a51t1xqXRhid",
        "colab": {
          "base_uri": "https://localhost:8080/",
          "height": 102
        },
        "outputId": "5207cdde-30dc-49b8-aef5-c855c1bf3aa8"
      },
      "execution_count": null,
      "outputs": [
        {
          "output_type": "display_data",
          "data": {
            "text/html": [
              "'numeric'"
            ],
            "text/markdown": "'numeric'",
            "text/latex": "'numeric'",
            "text/plain": [
              "[1] \"numeric\""
            ]
          },
          "metadata": {}
        },
        {
          "output_type": "display_data",
          "data": {
            "text/html": [
              "TRUE"
            ],
            "text/markdown": "TRUE",
            "text/latex": "TRUE",
            "text/plain": [
              "[1] TRUE"
            ]
          },
          "metadata": {}
        },
        {
          "output_type": "display_data",
          "data": {
            "text/html": [
              "TRUE"
            ],
            "text/markdown": "TRUE",
            "text/latex": "TRUE",
            "text/plain": [
              "[1] TRUE"
            ]
          },
          "metadata": {}
        },
        {
          "output_type": "display_data",
          "data": {
            "text/html": [
              "TRUE"
            ],
            "text/markdown": "TRUE",
            "text/latex": "TRUE",
            "text/plain": [
              "[1] TRUE"
            ]
          },
          "metadata": {}
        },
        {
          "output_type": "display_data",
          "data": {
            "text/html": [
              "FALSE"
            ],
            "text/markdown": "FALSE",
            "text/latex": "FALSE",
            "text/plain": [
              "[1] FALSE"
            ]
          },
          "metadata": {}
        }
      ]
    },
    {
      "cell_type": "markdown",
      "source": [
        "## Vectores"
      ],
      "metadata": {
        "id": "UxVfrnGcRho3"
      }
    },
    {
      "cell_type": "code",
      "source": [
        "# Crear un vector 'a' con elementos 3, 1 y 2.\n",
        "a <- c(3, 1, 2)\n",
        "\n",
        "# Mostrar el contenido del vector 'a'.\n",
        "a\n",
        "## [1] 3 1 2\n",
        "\n",
        "# Crear un vector 'b' con elementos 4, 5 y 0.\n",
        "b <- c(4, 5, 0)\n",
        "\n",
        "# Mostrar el contenido del vector 'b'.\n",
        "b\n",
        "## [1] 4 5 0\n",
        "\n",
        "# Crear un vector 'c' concatenando los vectores 'a' y 'b'. El resultado contiene los elementos de 'a' seguidos de los elementos de 'b'.\n",
        "c <- c(a, b)\n",
        "\n",
        "# Mostrar el contenido del vector 'c'.\n",
        "c\n",
        "## [1] 3 1 2 4 5 0\n",
        "\n",
        "# Crear un vector 'd' concatenando los vectores 'b' y 'a'. El resultado contiene los elementos de 'b' seguidos de los elementos de 'a'.\n",
        "d <- c(b, a)\n",
        "\n",
        "# Mostrar el contenido del vector 'd'.\n",
        "d\n",
        "## [1] 4 5 0 3 1 2"
      ],
      "metadata": {
        "colab": {
          "base_uri": "https://localhost:8080/",
          "height": 85
        },
        "id": "aNgUvhnrRhvg",
        "outputId": "d534f51f-9f1e-4615-a095-14bfeeb63136"
      },
      "execution_count": null,
      "outputs": [
        {
          "output_type": "display_data",
          "data": {
            "text/html": [
              "<style>\n",
              ".list-inline {list-style: none; margin:0; padding: 0}\n",
              ".list-inline>li {display: inline-block}\n",
              ".list-inline>li:not(:last-child)::after {content: \"\\00b7\"; padding: 0 .5ex}\n",
              "</style>\n",
              "<ol class=list-inline><li>3</li><li>1</li><li>2</li></ol>\n"
            ],
            "text/markdown": "1. 3\n2. 1\n3. 2\n\n\n",
            "text/latex": "\\begin{enumerate*}\n\\item 3\n\\item 1\n\\item 2\n\\end{enumerate*}\n",
            "text/plain": [
              "[1] 3 1 2"
            ]
          },
          "metadata": {}
        },
        {
          "output_type": "display_data",
          "data": {
            "text/html": [
              "<style>\n",
              ".list-inline {list-style: none; margin:0; padding: 0}\n",
              ".list-inline>li {display: inline-block}\n",
              ".list-inline>li:not(:last-child)::after {content: \"\\00b7\"; padding: 0 .5ex}\n",
              "</style>\n",
              "<ol class=list-inline><li>4</li><li>5</li><li>0</li></ol>\n"
            ],
            "text/markdown": "1. 4\n2. 5\n3. 0\n\n\n",
            "text/latex": "\\begin{enumerate*}\n\\item 4\n\\item 5\n\\item 0\n\\end{enumerate*}\n",
            "text/plain": [
              "[1] 4 5 0"
            ]
          },
          "metadata": {}
        },
        {
          "output_type": "display_data",
          "data": {
            "text/html": [
              "<style>\n",
              ".list-inline {list-style: none; margin:0; padding: 0}\n",
              ".list-inline>li {display: inline-block}\n",
              ".list-inline>li:not(:last-child)::after {content: \"\\00b7\"; padding: 0 .5ex}\n",
              "</style>\n",
              "<ol class=list-inline><li>3</li><li>1</li><li>2</li><li>4</li><li>5</li><li>0</li></ol>\n"
            ],
            "text/markdown": "1. 3\n2. 1\n3. 2\n4. 4\n5. 5\n6. 0\n\n\n",
            "text/latex": "\\begin{enumerate*}\n\\item 3\n\\item 1\n\\item 2\n\\item 4\n\\item 5\n\\item 0\n\\end{enumerate*}\n",
            "text/plain": [
              "[1] 3 1 2 4 5 0"
            ]
          },
          "metadata": {}
        },
        {
          "output_type": "display_data",
          "data": {
            "text/html": [
              "<style>\n",
              ".list-inline {list-style: none; margin:0; padding: 0}\n",
              ".list-inline>li {display: inline-block}\n",
              ".list-inline>li:not(:last-child)::after {content: \"\\00b7\"; padding: 0 .5ex}\n",
              "</style>\n",
              "<ol class=list-inline><li>4</li><li>5</li><li>0</li><li>3</li><li>1</li><li>2</li></ol>\n"
            ],
            "text/markdown": "1. 4\n2. 5\n3. 0\n4. 3\n5. 1\n6. 2\n\n\n",
            "text/latex": "\\begin{enumerate*}\n\\item 4\n\\item 5\n\\item 0\n\\item 3\n\\item 1\n\\item 2\n\\end{enumerate*}\n",
            "text/plain": [
              "[1] 4 5 0 3 1 2"
            ]
          },
          "metadata": {}
        }
      ]
    },
    {
      "cell_type": "markdown",
      "source": [
        "## Crear secuencias"
      ],
      "metadata": {
        "id": "QHGxm_dXRh2N"
      }
    },
    {
      "cell_type": "code",
      "source": [
        "# Crear un vector 'a' que contiene una secuencia de números desde -1 hasta 5.\n",
        "a <- -1:5\n",
        "\n",
        "# Mostrar el contenido del vector 'a'.\n",
        "a\n",
        "## [1] -1  0  1  2  3  4  5\n",
        "\n",
        "# Crear un vector 'b' que contiene una secuencia de números desde 5 hasta -1 en orden inverso.\n",
        "b <- 5:-1\n",
        "\n",
        "# Mostrar el contenido del vector 'b'.\n",
        "b\n",
        "## [1]  5  4  3  2  1  0 -1\n",
        "\n",
        "# Crear un vector 'c' que contiene una secuencia de números desde -1 hasta 1 con incrementos de 0.1.\n",
        "c <- seq(from = -1, to = 1, by = 0.1)\n",
        "\n",
        "# Mostrar el contenido del vector 'c'.\n",
        "c\n",
        "##  [1] -1.0 -0.9 -0.8 -0.7 -0.6 -0.5 -0.4 -0.3 -0.2 -0.1  0.0  0.1  0.2  0.3  0.4  0.5  0.6  0.7  0.8  0.9  1.0\n",
        "\n",
        "# Crear un vector 'd' que contiene cuatro repeticiones del número -5.\n",
        "d <- rep(-5, 4)\n",
        "\n",
        "# Mostrar el contenido del vector 'd'.\n",
        "d\n",
        "## [1] -5 -5 -5 -5\n"
      ],
      "metadata": {
        "colab": {
          "base_uri": "https://localhost:8080/",
          "height": 85
        },
        "id": "5aDyReZZRh7b",
        "outputId": "67342d9c-b156-48a1-ed25-9f7917528d1c"
      },
      "execution_count": null,
      "outputs": [
        {
          "output_type": "display_data",
          "data": {
            "text/html": [
              "<style>\n",
              ".list-inline {list-style: none; margin:0; padding: 0}\n",
              ".list-inline>li {display: inline-block}\n",
              ".list-inline>li:not(:last-child)::after {content: \"\\00b7\"; padding: 0 .5ex}\n",
              "</style>\n",
              "<ol class=list-inline><li>-1</li><li>0</li><li>1</li><li>2</li><li>3</li><li>4</li><li>5</li></ol>\n"
            ],
            "text/markdown": "1. -1\n2. 0\n3. 1\n4. 2\n5. 3\n6. 4\n7. 5\n\n\n",
            "text/latex": "\\begin{enumerate*}\n\\item -1\n\\item 0\n\\item 1\n\\item 2\n\\item 3\n\\item 4\n\\item 5\n\\end{enumerate*}\n",
            "text/plain": [
              "[1] -1  0  1  2  3  4  5"
            ]
          },
          "metadata": {}
        },
        {
          "output_type": "display_data",
          "data": {
            "text/html": [
              "<style>\n",
              ".list-inline {list-style: none; margin:0; padding: 0}\n",
              ".list-inline>li {display: inline-block}\n",
              ".list-inline>li:not(:last-child)::after {content: \"\\00b7\"; padding: 0 .5ex}\n",
              "</style>\n",
              "<ol class=list-inline><li>5</li><li>4</li><li>3</li><li>2</li><li>1</li><li>0</li><li>-1</li></ol>\n"
            ],
            "text/markdown": "1. 5\n2. 4\n3. 3\n4. 2\n5. 1\n6. 0\n7. -1\n\n\n",
            "text/latex": "\\begin{enumerate*}\n\\item 5\n\\item 4\n\\item 3\n\\item 2\n\\item 1\n\\item 0\n\\item -1\n\\end{enumerate*}\n",
            "text/plain": [
              "[1]  5  4  3  2  1  0 -1"
            ]
          },
          "metadata": {}
        },
        {
          "output_type": "display_data",
          "data": {
            "text/html": [
              "<style>\n",
              ".list-inline {list-style: none; margin:0; padding: 0}\n",
              ".list-inline>li {display: inline-block}\n",
              ".list-inline>li:not(:last-child)::after {content: \"\\00b7\"; padding: 0 .5ex}\n",
              "</style>\n",
              "<ol class=list-inline><li>-1</li><li>-0.9</li><li>-0.8</li><li>-0.7</li><li>-0.6</li><li>-0.5</li><li>-0.4</li><li>-0.3</li><li>-0.2</li><li>-0.1</li><li>0</li><li>0.1</li><li>0.2</li><li>0.3</li><li>0.4</li><li>0.5</li><li>0.6</li><li>0.7</li><li>0.8</li><li>0.9</li><li>1</li></ol>\n"
            ],
            "text/markdown": "1. -1\n2. -0.9\n3. -0.8\n4. -0.7\n5. -0.6\n6. -0.5\n7. -0.4\n8. -0.3\n9. -0.2\n10. -0.1\n11. 0\n12. 0.1\n13. 0.2\n14. 0.3\n15. 0.4\n16. 0.5\n17. 0.6\n18. 0.7\n19. 0.8\n20. 0.9\n21. 1\n\n\n",
            "text/latex": "\\begin{enumerate*}\n\\item -1\n\\item -0.9\n\\item -0.8\n\\item -0.7\n\\item -0.6\n\\item -0.5\n\\item -0.4\n\\item -0.3\n\\item -0.2\n\\item -0.1\n\\item 0\n\\item 0.1\n\\item 0.2\n\\item 0.3\n\\item 0.4\n\\item 0.5\n\\item 0.6\n\\item 0.7\n\\item 0.8\n\\item 0.9\n\\item 1\n\\end{enumerate*}\n",
            "text/plain": [
              " [1] -1.0 -0.9 -0.8 -0.7 -0.6 -0.5 -0.4 -0.3 -0.2 -0.1  0.0  0.1  0.2  0.3  0.4\n",
              "[16]  0.5  0.6  0.7  0.8  0.9  1.0"
            ]
          },
          "metadata": {}
        },
        {
          "output_type": "display_data",
          "data": {
            "text/html": [
              "<style>\n",
              ".list-inline {list-style: none; margin:0; padding: 0}\n",
              ".list-inline>li {display: inline-block}\n",
              ".list-inline>li:not(:last-child)::after {content: \"\\00b7\"; padding: 0 .5ex}\n",
              "</style>\n",
              "<ol class=list-inline><li>-5</li><li>-5</li><li>-5</li><li>-5</li></ol>\n"
            ],
            "text/markdown": "1. -5\n2. -5\n3. -5\n4. -5\n\n\n",
            "text/latex": "\\begin{enumerate*}\n\\item -5\n\\item -5\n\\item -5\n\\item -5\n\\end{enumerate*}\n",
            "text/plain": [
              "[1] -5 -5 -5 -5"
            ]
          },
          "metadata": {}
        }
      ]
    },
    {
      "cell_type": "markdown",
      "source": [
        "## Valores especiales"
      ],
      "metadata": {
        "id": "PI-03KOkRiBa"
      }
    },
    {
      "cell_type": "code",
      "source": [
        "# Asignar 'NA' (valor faltante o indefinido) a la variable 'a'.\n",
        "a <- NA\n",
        "\n",
        "# Mostrar el contenido de la variable 'a', que muestra 'NA' (Not Available).\n",
        "a\n",
        "## [1] NA\n",
        "\n",
        "# División de -1 por 0, lo que resulta en menos infinito (-Inf).\n",
        "-1 / 0\n",
        "## [1] -Inf\n",
        "\n",
        "# División de 1 por 0, lo que resulta en infinito (Inf).\n",
        "1 / 0\n",
        "## [1] Inf\n",
        "\n",
        "# División de infinito (Inf) por infinito (Inf), lo que resulta en un valor no definido (NaN).\n",
        "Inf / Inf\n",
        "## [1] NaN\n",
        "\n",
        "# Suma de infinito (Inf) y 4, lo que resulta en infinito (Inf).\n",
        "Inf + 4\n",
        "## [1] Inf\n",
        "\n",
        "# Asignar menos infinito (-Inf) a la variable 'b'.\n",
        "b <- -Inf\n",
        "\n",
        "# Multiplicar 'b' por -1, lo que resulta en infinito (Inf).\n",
        "b * -1\n",
        "## [1] Inf"
      ],
      "metadata": {
        "colab": {
          "base_uri": "https://localhost:8080/",
          "height": 119
        },
        "id": "ZvcXUsvVjzam",
        "outputId": "451c07ee-e2fa-4182-edf9-0523f903904a"
      },
      "execution_count": null,
      "outputs": [
        {
          "output_type": "display_data",
          "data": {
            "text/html": [
              "&lt;NA&gt;"
            ],
            "text/markdown": "&lt;NA&gt;",
            "text/latex": "<NA>",
            "text/plain": [
              "[1] NA"
            ]
          },
          "metadata": {}
        },
        {
          "output_type": "display_data",
          "data": {
            "text/html": [
              "-Inf"
            ],
            "text/markdown": "-Inf",
            "text/latex": "-Inf",
            "text/plain": [
              "[1] -Inf"
            ]
          },
          "metadata": {}
        },
        {
          "output_type": "display_data",
          "data": {
            "text/html": [
              "Inf"
            ],
            "text/markdown": "Inf",
            "text/latex": "Inf",
            "text/plain": [
              "[1] Inf"
            ]
          },
          "metadata": {}
        },
        {
          "output_type": "display_data",
          "data": {
            "text/html": [
              "NaN"
            ],
            "text/markdown": "NaN",
            "text/latex": "NaN",
            "text/plain": [
              "[1] NaN"
            ]
          },
          "metadata": {}
        },
        {
          "output_type": "display_data",
          "data": {
            "text/html": [
              "Inf"
            ],
            "text/markdown": "Inf",
            "text/latex": "Inf",
            "text/plain": [
              "[1] Inf"
            ]
          },
          "metadata": {}
        },
        {
          "output_type": "display_data",
          "data": {
            "text/html": [
              "Inf"
            ],
            "text/markdown": "Inf",
            "text/latex": "Inf",
            "text/plain": [
              "[1] Inf"
            ]
          },
          "metadata": {}
        }
      ]
    },
    {
      "cell_type": "markdown",
      "source": [
        "## Redondeo"
      ],
      "metadata": {
        "id": "povwUREDRiRk"
      }
    },
    {
      "cell_type": "code",
      "source": [
        "# Redondear el número 0.0124567 a 3 decimales utilizando la función round().\n",
        "round(0.0124567, digits = 3)\n",
        "## [1] 0.012\n",
        "\n",
        "# Redondear el número 0.0124567 a 3 decimales utilizando la función signif().\n",
        "signif(0.0124567, digits = 3)\n",
        "## [1] 0.0125\n",
        "\n",
        "# Redondear el número 1789.1234 a 3 decimales utilizando la función round().\n",
        "round(1789.1234, digits = 3)\n",
        "## [1] 1789.123\n",
        "\n",
        "# Redondear el número 1789.1234 a 3 decimales utilizando la función signif().\n",
        "signif(1789.1234, digits = 3)\n",
        "## [1] 1790\n",
        "\n",
        "# Redondear el número 1789.1234 a la decena más cercana.\n",
        "round(1789.1234, digits = -1)\n",
        "## [1] 1790\n",
        "\n",
        "# Asignar el valor 0.12345 a la variable 'a'.\n",
        "a <- 0.12345\n",
        "\n",
        "# Redondear 'a' a 2 decimales y asignar el resultado a la variable 'b'.\n",
        "b <- round(a, digits = 2)\n",
        "\n",
        "# Comprobar si 'a' y 'b' son iguales.\n",
        "a == b\n",
        "## [1] FALSE\n",
        "\n",
        "# Calcular la diferencia entre 'a' y 'b'.\n",
        "a - b\n",
        "## [1] 0.00345\n",
        "\n",
        "# Mostrar el valor de 'b', que es 0.12 (redondeado a 2 decimales).\n",
        "b\n",
        "## [1] 0.12"
      ],
      "metadata": {
        "colab": {
          "base_uri": "https://localhost:8080/",
          "height": 153
        },
        "id": "d_P7kqZORiXb",
        "outputId": "0cbb204d-3d38-42b2-d413-c7e45c5e3c4d"
      },
      "execution_count": null,
      "outputs": [
        {
          "output_type": "display_data",
          "data": {
            "text/html": [
              "0.012"
            ],
            "text/markdown": "0.012",
            "text/latex": "0.012",
            "text/plain": [
              "[1] 0.012"
            ]
          },
          "metadata": {}
        },
        {
          "output_type": "display_data",
          "data": {
            "text/html": [
              "0.0125"
            ],
            "text/markdown": "0.0125",
            "text/latex": "0.0125",
            "text/plain": [
              "[1] 0.0125"
            ]
          },
          "metadata": {}
        },
        {
          "output_type": "display_data",
          "data": {
            "text/html": [
              "1789.123"
            ],
            "text/markdown": "1789.123",
            "text/latex": "1789.123",
            "text/plain": [
              "[1] 1789.123"
            ]
          },
          "metadata": {}
        },
        {
          "output_type": "display_data",
          "data": {
            "text/html": [
              "1790"
            ],
            "text/markdown": "1790",
            "text/latex": "1790",
            "text/plain": [
              "[1] 1790"
            ]
          },
          "metadata": {}
        },
        {
          "output_type": "display_data",
          "data": {
            "text/html": [
              "1790"
            ],
            "text/markdown": "1790",
            "text/latex": "1790",
            "text/plain": [
              "[1] 1790"
            ]
          },
          "metadata": {}
        },
        {
          "output_type": "display_data",
          "data": {
            "text/html": [
              "FALSE"
            ],
            "text/markdown": "FALSE",
            "text/latex": "FALSE",
            "text/plain": [
              "[1] FALSE"
            ]
          },
          "metadata": {}
        },
        {
          "output_type": "display_data",
          "data": {
            "text/html": [
              "0.00345000000000001"
            ],
            "text/markdown": "0.00345000000000001",
            "text/latex": "0.00345000000000001",
            "text/plain": [
              "[1] 0.00345"
            ]
          },
          "metadata": {}
        },
        {
          "output_type": "display_data",
          "data": {
            "text/html": [
              "0.12"
            ],
            "text/markdown": "0.12",
            "text/latex": "0.12",
            "text/plain": [
              "[1] 0.12"
            ]
          },
          "metadata": {}
        }
      ]
    },
    {
      "cell_type": "markdown",
      "source": [
        "# Valores lógicos y boolenaos"
      ],
      "metadata": {
        "id": "YVqrk-OQkZ4t"
      }
    },
    {
      "cell_type": "code",
      "source": [
        "# Asignar el valor lógico verdadero (TRUE) a la variable 'a'.\n",
        "a <- TRUE\n",
        "\n",
        "# Asignar el valor lógico falso (FALSE) a la variable 'b'.\n",
        "b <- FALSE\n",
        "\n",
        "# Utilizar la función mode() para verificar el tipo de dato de 'a', que es lógico (logical).\n",
        "mode(a)\n",
        "## [1] \"logical\"\n",
        "\n",
        "# Mostrar el contenido de la variable 'a', que es verdadero (TRUE).\n",
        "a\n",
        "## [1] TRUE\n",
        "\n",
        "# Aplicar la negación lógica a 'a', lo que da como resultado falso (FALSE).\n",
        "!a # negación\n",
        "## [1] FALSE\n",
        "\n",
        "# Realizar una operación lógica AND entre 'a' y 'b', lo que da como resultado falso (FALSE).\n",
        "a && b # operador lógico AND\n",
        "## [1] FALSE\n",
        "\n",
        "# Realizar una operación lógica OR entre 'a' y 'b', lo que da como resultado verdadero (TRUE).\n",
        "a || b # operador lógico OR\n",
        "## [1] TRUE\n",
        "\n",
        "# Realizar una operación de OR exclusivo (XOR) entre 'a' y 'b', lo que da como resultado verdadero (TRUE), ya que solo uno de los operandos es verdadero.\n",
        "xor(a, b) # OR exclusivo\n",
        "## [1] TRUE"
      ],
      "metadata": {
        "colab": {
          "base_uri": "https://localhost:8080/",
          "height": 119
        },
        "id": "t2R88iNvkZ95",
        "outputId": "9cf44148-9c58-4e3e-c3eb-1b8a4e1e98eb"
      },
      "execution_count": null,
      "outputs": [
        {
          "output_type": "display_data",
          "data": {
            "text/html": [
              "'logical'"
            ],
            "text/markdown": "'logical'",
            "text/latex": "'logical'",
            "text/plain": [
              "[1] \"logical\""
            ]
          },
          "metadata": {}
        },
        {
          "output_type": "display_data",
          "data": {
            "text/html": [
              "TRUE"
            ],
            "text/markdown": "TRUE",
            "text/latex": "TRUE",
            "text/plain": [
              "[1] TRUE"
            ]
          },
          "metadata": {}
        },
        {
          "output_type": "display_data",
          "data": {
            "text/html": [
              "FALSE"
            ],
            "text/markdown": "FALSE",
            "text/latex": "FALSE",
            "text/plain": [
              "[1] FALSE"
            ]
          },
          "metadata": {}
        },
        {
          "output_type": "display_data",
          "data": {
            "text/html": [
              "FALSE"
            ],
            "text/markdown": "FALSE",
            "text/latex": "FALSE",
            "text/plain": [
              "[1] FALSE"
            ]
          },
          "metadata": {}
        },
        {
          "output_type": "display_data",
          "data": {
            "text/html": [
              "TRUE"
            ],
            "text/markdown": "TRUE",
            "text/latex": "TRUE",
            "text/plain": [
              "[1] TRUE"
            ]
          },
          "metadata": {}
        },
        {
          "output_type": "display_data",
          "data": {
            "text/html": [
              "TRUE"
            ],
            "text/markdown": "TRUE",
            "text/latex": "TRUE",
            "text/plain": [
              "[1] TRUE"
            ]
          },
          "metadata": {}
        }
      ]
    },
    {
      "cell_type": "markdown",
      "source": [
        "## Any y All"
      ],
      "metadata": {
        "id": "CVy5O4A7kaEa"
      }
    },
    {
      "cell_type": "code",
      "source": [
        "# Utilizar la función 'any()' para verificar si al menos un elemento en 'a' es verdadero. Como 'a' es verdadero, el resultado es verdadero (TRUE).\n",
        "any(a)\n",
        "## [1] TRUE\n",
        "\n",
        "# Utilizar la función 'all()' para verificar si todos los elementos en 'a' son verdaderos. Como 'a' contiene solo un elemento verdadero, el resultado es falso (FALSE).\n",
        "all(a)\n",
        "## [1] FALSE\n",
        "\n",
        "# Realizar una operación lógica AND entre 'a' y 'b' y luego utilizar 'any()' para verificar si al menos un elemento en la operación es verdadero. Como 'a && b' es falso, el resultado es falso (FALSE).\n",
        "any(a & b)\n",
        "## [1] FALSE\n",
        "\n",
        "# Realizar una operación lógica AND entre 'a' y 'b' y luego utilizar 'all()' para verificar si todos los elementos en la operación son verdaderos. Como 'a && b' es falso, el resultado es falso (FALSE).\n",
        "all(a & b)\n",
        "## [1] FALSE\n"
      ],
      "metadata": {
        "colab": {
          "base_uri": "https://localhost:8080/",
          "height": 85
        },
        "id": "O_alQrFZkaJl",
        "outputId": "86417d5a-e05c-4615-c0df-885d9f4afc6b"
      },
      "execution_count": null,
      "outputs": [
        {
          "output_type": "display_data",
          "data": {
            "text/html": [
              "TRUE"
            ],
            "text/markdown": "TRUE",
            "text/latex": "TRUE",
            "text/plain": [
              "[1] TRUE"
            ]
          },
          "metadata": {}
        },
        {
          "output_type": "display_data",
          "data": {
            "text/html": [
              "TRUE"
            ],
            "text/markdown": "TRUE",
            "text/latex": "TRUE",
            "text/plain": [
              "[1] TRUE"
            ]
          },
          "metadata": {}
        },
        {
          "output_type": "display_data",
          "data": {
            "text/html": [
              "FALSE"
            ],
            "text/markdown": "FALSE",
            "text/latex": "FALSE",
            "text/plain": [
              "[1] FALSE"
            ]
          },
          "metadata": {}
        },
        {
          "output_type": "display_data",
          "data": {
            "text/html": [
              "FALSE"
            ],
            "text/markdown": "FALSE",
            "text/latex": "FALSE",
            "text/plain": [
              "[1] FALSE"
            ]
          },
          "metadata": {}
        }
      ]
    },
    {
      "cell_type": "markdown",
      "source": [
        "# Comparadores"
      ],
      "metadata": {
        "id": "zSJoxZ6ukaPK"
      }
    },
    {
      "cell_type": "code",
      "source": [
        "# Comparación: 1.2 es mayor que 1.0.\n",
        "1.2 > 1.0\n",
        "## [1] TRUE\n",
        "\n",
        "# Comparación: 1.2 es mayor o igual que 1.0.\n",
        "1.2 >= 1.0\n",
        "## [1] TRUE\n",
        "\n",
        "# Comparación: 1.2 es igual a 1.0 (usando dos símbolos de igual). Esto devuelve falso (FALSE) debido a la diferencia en los valores decimales.\n",
        "1.2 == 1.0\n",
        "## [1] FALSE\n",
        "\n",
        "# Comparación: 1.2 no es igual a 1.0.\n",
        "1.2 != 1.0\n",
        "## [1] TRUE\n",
        "\n",
        "# Comparación: 1.2 no es menor o igual que 1.0.\n",
        "1.2 <= 1.0\n",
        "## [1] FALSE\n",
        "\n",
        "# Comparación: 1.2 no es menor que 1.0.\n",
        "1.2 < 1.0\n",
        "## [1] FALSE\n",
        "\n",
        "# Asignar el valor 20 a la variable 'a'.\n",
        "a <- 20\n",
        "\n",
        "# Verificar si 'a' es mayor que 10 y menor que 100. La condición es verdadera (TRUE).\n",
        "a < 100 && a > 10\n",
        "## [1] TRUE"
      ],
      "metadata": {
        "colab": {
          "base_uri": "https://localhost:8080/",
          "height": 136
        },
        "id": "3KSosfLikaU0",
        "outputId": "05201885-7859-458e-d1e1-e4ccdf3ce222"
      },
      "execution_count": null,
      "outputs": [
        {
          "output_type": "display_data",
          "data": {
            "text/html": [
              "TRUE"
            ],
            "text/markdown": "TRUE",
            "text/latex": "TRUE",
            "text/plain": [
              "[1] TRUE"
            ]
          },
          "metadata": {}
        },
        {
          "output_type": "display_data",
          "data": {
            "text/html": [
              "TRUE"
            ],
            "text/markdown": "TRUE",
            "text/latex": "TRUE",
            "text/plain": [
              "[1] TRUE"
            ]
          },
          "metadata": {}
        },
        {
          "output_type": "display_data",
          "data": {
            "text/html": [
              "FALSE"
            ],
            "text/markdown": "FALSE",
            "text/latex": "FALSE",
            "text/plain": [
              "[1] FALSE"
            ]
          },
          "metadata": {}
        },
        {
          "output_type": "display_data",
          "data": {
            "text/html": [
              "TRUE"
            ],
            "text/markdown": "TRUE",
            "text/latex": "TRUE",
            "text/plain": [
              "[1] TRUE"
            ]
          },
          "metadata": {}
        },
        {
          "output_type": "display_data",
          "data": {
            "text/html": [
              "FALSE"
            ],
            "text/markdown": "FALSE",
            "text/latex": "FALSE",
            "text/plain": [
              "[1] FALSE"
            ]
          },
          "metadata": {}
        },
        {
          "output_type": "display_data",
          "data": {
            "text/html": [
              "FALSE"
            ],
            "text/markdown": "FALSE",
            "text/latex": "FALSE",
            "text/plain": [
              "[1] FALSE"
            ]
          },
          "metadata": {}
        },
        {
          "output_type": "display_data",
          "data": {
            "text/html": [
              "TRUE"
            ],
            "text/markdown": "TRUE",
            "text/latex": "TRUE",
            "text/plain": [
              "[1] TRUE"
            ]
          },
          "metadata": {}
        }
      ]
    },
    {
      "cell_type": "markdown",
      "source": [
        "# Sets"
      ],
      "metadata": {
        "id": "vomL71kfkaab"
      }
    },
    {
      "cell_type": "code",
      "source": [
        "# Crear vectores que representan diferentes categorías de productos.\n",
        "fruits <- c(\"apple\", \"pear\", \"orange\", \"lemon\", \"tangerine\")\n",
        "bakery <- c(\"bread\", \"buns\", \"cake\", \"cookies\")\n",
        "dairy <- c(\"milk\", \"butter\", \"cheese\")\n",
        "shopping <- c(\"bread\", \"butter\", \"apple\", \"cheese\", \"orange\")\n",
        "\n",
        "# Encontrar la intersección entre los vectores 'fruits' y 'shopping', es decir, los elementos que están presentes en ambos vectores.\n",
        "intersect(fruits, shopping)\n",
        "## [1] \"apple\" \"orange\"\n",
        "\n",
        "# Encontrar la intersección entre los vectores 'bakery' y 'shopping'.\n",
        "intersect(bakery, shopping)\n",
        "## [1] \"bread\"\n",
        "\n",
        "# Encontrar la intersección entre los vectores 'dairy' y 'shopping'.\n",
        "intersect(dairy, shopping)\n",
        "## [1] \"butter\" \"cheese\"\n",
        "\n",
        "# Verificar si \"lemon\" está presente en el vector 'dairy'. Es falso (FALSE).\n",
        "\"lemon\" %in% dairy\n",
        "## [1] FALSE\n",
        "\n",
        "# Verificar si \"lemon\" está presente en el vector 'fruits'. Es verdadero (TRUE).\n",
        "\"lemon\" %in% fruits\n",
        "## [1] TRUE\n",
        "\n",
        "# Encontrar la diferencia entre la unión de los vectores 'bakery' y 'dairy' y el vector 'shopping'. Esto muestra los elementos que están en 'bakery' o 'dairy' pero no en 'shopping'.\n",
        "setdiff(union(bakery, dairy), shopping)\n",
        "## [1] \"buns\"    \"cake\"    \"cookies\" \"milk\"\n"
      ],
      "metadata": {
        "colab": {
          "base_uri": "https://localhost:8080/",
          "height": 119
        },
        "id": "1WljyeTikaf8",
        "outputId": "b5d858f7-19fe-4319-acfc-e00eb33fdc89"
      },
      "execution_count": null,
      "outputs": [
        {
          "output_type": "display_data",
          "data": {
            "text/html": [
              "<style>\n",
              ".list-inline {list-style: none; margin:0; padding: 0}\n",
              ".list-inline>li {display: inline-block}\n",
              ".list-inline>li:not(:last-child)::after {content: \"\\00b7\"; padding: 0 .5ex}\n",
              "</style>\n",
              "<ol class=list-inline><li>'apple'</li><li>'orange'</li></ol>\n"
            ],
            "text/markdown": "1. 'apple'\n2. 'orange'\n\n\n",
            "text/latex": "\\begin{enumerate*}\n\\item 'apple'\n\\item 'orange'\n\\end{enumerate*}\n",
            "text/plain": [
              "[1] \"apple\"  \"orange\""
            ]
          },
          "metadata": {}
        },
        {
          "output_type": "display_data",
          "data": {
            "text/html": [
              "'bread'"
            ],
            "text/markdown": "'bread'",
            "text/latex": "'bread'",
            "text/plain": [
              "[1] \"bread\""
            ]
          },
          "metadata": {}
        },
        {
          "output_type": "display_data",
          "data": {
            "text/html": [
              "<style>\n",
              ".list-inline {list-style: none; margin:0; padding: 0}\n",
              ".list-inline>li {display: inline-block}\n",
              ".list-inline>li:not(:last-child)::after {content: \"\\00b7\"; padding: 0 .5ex}\n",
              "</style>\n",
              "<ol class=list-inline><li>'butter'</li><li>'cheese'</li></ol>\n"
            ],
            "text/markdown": "1. 'butter'\n2. 'cheese'\n\n\n",
            "text/latex": "\\begin{enumerate*}\n\\item 'butter'\n\\item 'cheese'\n\\end{enumerate*}\n",
            "text/plain": [
              "[1] \"butter\" \"cheese\""
            ]
          },
          "metadata": {}
        },
        {
          "output_type": "display_data",
          "data": {
            "text/html": [
              "FALSE"
            ],
            "text/markdown": "FALSE",
            "text/latex": "FALSE",
            "text/plain": [
              "[1] FALSE"
            ]
          },
          "metadata": {}
        },
        {
          "output_type": "display_data",
          "data": {
            "text/html": [
              "TRUE"
            ],
            "text/markdown": "TRUE",
            "text/latex": "TRUE",
            "text/plain": [
              "[1] TRUE"
            ]
          },
          "metadata": {}
        },
        {
          "output_type": "display_data",
          "data": {
            "text/html": [
              "<style>\n",
              ".list-inline {list-style: none; margin:0; padding: 0}\n",
              ".list-inline>li {display: inline-block}\n",
              ".list-inline>li:not(:last-child)::after {content: \"\\00b7\"; padding: 0 .5ex}\n",
              "</style>\n",
              "<ol class=list-inline><li>'buns'</li><li>'cake'</li><li>'cookies'</li><li>'milk'</li></ol>\n"
            ],
            "text/markdown": "1. 'buns'\n2. 'cake'\n3. 'cookies'\n4. 'milk'\n\n\n",
            "text/latex": "\\begin{enumerate*}\n\\item 'buns'\n\\item 'cake'\n\\item 'cookies'\n\\item 'milk'\n\\end{enumerate*}\n",
            "text/plain": [
              "[1] \"buns\"    \"cake\"    \"cookies\" \"milk\"   "
            ]
          },
          "metadata": {}
        }
      ]
    },
    {
      "cell_type": "markdown",
      "source": [
        "# Carácteres"
      ],
      "metadata": {
        "id": "50qzBqjPkalB"
      }
    },
    {
      "cell_type": "code",
      "source": [
        "# Asignar el valor 'A' a la variable 'a'.\n",
        "a <- 'A'\n",
        "\n",
        "# Asignar la cadena \"bcdefg\" a la variable 'b'.\n",
        "b <- \"bcdefg\"\n",
        "\n",
        "# Asignar la cadena \"123\" a la variable 'c'.\n",
        "\n",
        "c <- \"123\"\n",
        "\n",
        "# Crear un vector 'd' que contiene las variables 'a', 'b' y 'c'.\n",
        "d <- c(a, b, c)\n",
        "\n",
        "# Mostrar el contenido del vector 'd'.\n",
        "d\n",
        "## [1] \"A\" \"bcdefg\" \"123\"\n",
        "\n",
        "# Asignar una cadena que contiene comillas simples al valor 'a'.\n",
        "a <- \"He said 'hello' when he came in\"\n",
        "a\n",
        "## [1] \"He said 'hello' when he came in\"\n",
        "\n",
        "# Asignar una cadena que contiene comillas dobles al valor 'b'.\n",
        "b <- 'He said \"hello\" when he came in'\n",
        "b\n",
        "## [1] \"He said \\\"hello\\\" when he came in\"\n"
      ],
      "metadata": {
        "colab": {
          "base_uri": "https://localhost:8080/",
          "height": 68
        },
        "id": "YksSMVRdkarI",
        "outputId": "08bc6797-3f88-4f25-9681-618e7b452dcb"
      },
      "execution_count": null,
      "outputs": [
        {
          "output_type": "display_data",
          "data": {
            "text/html": [
              "<style>\n",
              ".list-inline {list-style: none; margin:0; padding: 0}\n",
              ".list-inline>li {display: inline-block}\n",
              ".list-inline>li:not(:last-child)::after {content: \"\\00b7\"; padding: 0 .5ex}\n",
              "</style>\n",
              "<ol class=list-inline><li>'A'</li><li>'bcdefg'</li><li>'123'</li></ol>\n"
            ],
            "text/markdown": "1. 'A'\n2. 'bcdefg'\n3. '123'\n\n\n",
            "text/latex": "\\begin{enumerate*}\n\\item 'A'\n\\item 'bcdefg'\n\\item '123'\n\\end{enumerate*}\n",
            "text/plain": [
              "[1] \"A\"      \"bcdefg\" \"123\"   "
            ]
          },
          "metadata": {}
        },
        {
          "output_type": "display_data",
          "data": {
            "text/html": [
              "'He said \\'hello\\' when he came in'"
            ],
            "text/markdown": "'He said \\'hello\\' when he came in'",
            "text/latex": "'He said \\textbackslash{}'hello\\textbackslash{}' when he came in'",
            "text/plain": [
              "[1] \"He said 'hello' when he came in\""
            ]
          },
          "metadata": {}
        },
        {
          "output_type": "display_data",
          "data": {
            "text/html": [
              "'He said \"hello\" when he came in'"
            ],
            "text/markdown": "'He said \"hello\" when he came in'",
            "text/latex": "'He said \"hello\" when he came in'",
            "text/plain": [
              "[1] \"He said \\\"hello\\\" when he came in\""
            ]
          },
          "metadata": {}
        }
      ]
    },
    {
      "cell_type": "markdown",
      "source": [
        "# Modo y Clase"
      ],
      "metadata": {
        "id": "MoORpkZfkawy"
      }
    },
    {
      "cell_type": "code",
      "source": [
        "# Crear un vector 'my_var' que contiene una secuencia de números enteros del 1 al 5.\n",
        "my_var <- 1:5\n",
        "\n",
        "# Utilizar la función 'mode()' para verificar el tipo de dato de 'my_var', que muestra \"numeric\". En R, no hay distinción entre enteros y números con decimales en el tipo \"numeric\".\n",
        "mode(my_var)\n",
        "## [1] \"numeric\"\n",
        "\n",
        "# Utilizar la función 'typeof()' para verificar el tipo de dato de 'my_var', que muestra \"integer\" indicando que son enteros.\n",
        "typeof(my_var)\n",
        "## [1] \"integer\"\n",
        "\n",
        "# Utilizar la función 'is.numeric()' para verificar si 'my_var' es de tipo numérico, lo cual es verdadero (TRUE). En R, no hay distinción entre enteros y números con decimales en el tipo \"numeric\".\n",
        "is.numeric(my_var)\n",
        "## [1] TRUE\n",
        "\n",
        "# Utilizar la función 'is.double()' para verificar si 'my_var' es de tipo double (decimal), lo cual es falso (FALSE) debido a que es un vector de enteros.\n",
        "is.double(my_var)\n",
        "## [1] FALSE\n",
        "\n",
        "# Utilizar la función 'is.integer()' para verificar si 'my_var' es de tipo entero, lo cual es verdadero (TRUE).\n",
        "is.integer(my_var)\n",
        "## [1] TRUE\n",
        "\n",
        "# Utilizar la función 'is.logical()' para verificar si 'my_var' es de tipo lógico, lo cual es falso (FALSE) ya que 'my_var' es un vector numérico.\n",
        "is.logical(my_var)\n",
        "## [1] FALSE\n",
        "\n",
        "# Utilizar la función 'is.character()' para verificar si 'my_var' es de tipo caracter, lo cual es falso (FALSE) en este caso.\n",
        "is.character(my_var)\n",
        "## [1] FALSE\n",
        "\n",
        "# Reasignar la variable 'my_var' con una cadena de texto \"abc\".\n",
        "my_var <- \"abc\"\n",
        "\n",
        "# Utilizar la función 'mode()' nuevamente para verificar el nuevo tipo de dato de 'my_var', que muestra \"character\" indicando que es una cadena de caracteres.\n",
        "mode(my_var)\n",
        "## [1] \"character\"\n"
      ],
      "metadata": {
        "colab": {
          "base_uri": "https://localhost:8080/",
          "height": 153
        },
        "id": "v2vniiQ5ka1e",
        "outputId": "b0d45a03-59e7-4068-cc56-52758dc146a0"
      },
      "execution_count": null,
      "outputs": [
        {
          "output_type": "display_data",
          "data": {
            "text/html": [
              "'numeric'"
            ],
            "text/markdown": "'numeric'",
            "text/latex": "'numeric'",
            "text/plain": [
              "[1] \"numeric\""
            ]
          },
          "metadata": {}
        },
        {
          "output_type": "display_data",
          "data": {
            "text/html": [
              "'integer'"
            ],
            "text/markdown": "'integer'",
            "text/latex": "'integer'",
            "text/plain": [
              "[1] \"integer\""
            ]
          },
          "metadata": {}
        },
        {
          "output_type": "display_data",
          "data": {
            "text/html": [
              "TRUE"
            ],
            "text/markdown": "TRUE",
            "text/latex": "TRUE",
            "text/plain": [
              "[1] TRUE"
            ]
          },
          "metadata": {}
        },
        {
          "output_type": "display_data",
          "data": {
            "text/html": [
              "FALSE"
            ],
            "text/markdown": "FALSE",
            "text/latex": "FALSE",
            "text/plain": [
              "[1] FALSE"
            ]
          },
          "metadata": {}
        },
        {
          "output_type": "display_data",
          "data": {
            "text/html": [
              "TRUE"
            ],
            "text/markdown": "TRUE",
            "text/latex": "TRUE",
            "text/plain": [
              "[1] TRUE"
            ]
          },
          "metadata": {}
        },
        {
          "output_type": "display_data",
          "data": {
            "text/html": [
              "FALSE"
            ],
            "text/markdown": "FALSE",
            "text/latex": "FALSE",
            "text/plain": [
              "[1] FALSE"
            ]
          },
          "metadata": {}
        },
        {
          "output_type": "display_data",
          "data": {
            "text/html": [
              "FALSE"
            ],
            "text/markdown": "FALSE",
            "text/latex": "FALSE",
            "text/plain": [
              "[1] FALSE"
            ]
          },
          "metadata": {}
        },
        {
          "output_type": "display_data",
          "data": {
            "text/html": [
              "'character'"
            ],
            "text/markdown": "'character'",
            "text/latex": "'character'",
            "text/plain": [
              "[1] \"character\""
            ]
          },
          "metadata": {}
        }
      ]
    },
    {
      "cell_type": "markdown",
      "source": [
        "# Conversiones"
      ],
      "metadata": {
        "id": "P42jQG0xwyFB"
      }
    },
    {
      "cell_type": "code",
      "source": [
        "# Utilizar la función 'as.character()' para convertir el número 1 en una cadena de caracteres.\n",
        "as.character(1)\n",
        "## [1] \"1\"\n",
        "\n",
        "# Utilizar la función 'as.numeric()' para convertir la cadena de caracteres \"1\" en un número.\n",
        "as.numeric(\"1\")\n",
        "## [1] 1\n",
        "\n",
        "# Utilizar la función 'as.logical()' para convertir la cadena de caracteres \"TRUE\" en un valor lógico (verdadero).\n",
        "as.logical(\"TRUE\")\n",
        "## [1] TRUE\n",
        "\n",
        "# Utilizar la función 'as.logical()' para convertir la cadena de caracteres \"NA\" en un valor lógico.\n",
        "as.logical(\"NA\")\n",
        "## [1] NA"
      ],
      "metadata": {
        "colab": {
          "base_uri": "https://localhost:8080/",
          "height": 85
        },
        "id": "Dn6e6GfuwyK8",
        "outputId": "7d8bb99e-bfb7-4bb6-d006-b1605c80a994"
      },
      "execution_count": null,
      "outputs": [
        {
          "output_type": "display_data",
          "data": {
            "text/html": [
              "'1'"
            ],
            "text/markdown": "'1'",
            "text/latex": "'1'",
            "text/plain": [
              "[1] \"1\""
            ]
          },
          "metadata": {}
        },
        {
          "output_type": "display_data",
          "data": {
            "text/html": [
              "1"
            ],
            "text/markdown": "1",
            "text/latex": "1",
            "text/plain": [
              "[1] 1"
            ]
          },
          "metadata": {}
        },
        {
          "output_type": "display_data",
          "data": {
            "text/html": [
              "TRUE"
            ],
            "text/markdown": "TRUE",
            "text/latex": "TRUE",
            "text/plain": [
              "[1] TRUE"
            ]
          },
          "metadata": {}
        },
        {
          "output_type": "display_data",
          "data": {
            "text/html": [
              "&lt;NA&gt;"
            ],
            "text/markdown": "&lt;NA&gt;",
            "text/latex": "<NA>",
            "text/plain": [
              "[1] NA"
            ]
          },
          "metadata": {}
        }
      ]
    },
    {
      "cell_type": "markdown",
      "source": [
        "## Longitud"
      ],
      "metadata": {
        "id": "bfIAphf1wyQS"
      }
    },
    {
      "cell_type": "code",
      "source": [
        "# Crear un vector 'f' que contiene tres elementos, que son cadenas de caracteres.\n",
        "f <- c(\"1\", \"2\", \"3\")\n",
        "\n",
        "# Utilizar la función 'length()' para verificar la longitud del vector 'f', que es 3.\n",
        "length(f)\n",
        "## [1] 3\n",
        "\n",
        "# Asignar la cadena de caracteres \"123\" a la variable 'g'.\n",
        "g <- \"123\"\n",
        "\n",
        "# Utilizar la función 'length()' para verificar la longitud de 'g', que es 1 ya que contiene una sola cadena.\n",
        "length(g)\n",
        "## [1] 1\n",
        "\n",
        "# Utilizar la función 'as.numeric()' para convertir el vector 'f' en un vector numérico. Las cadenas se convierten en números.\n",
        "as.numeric(f)\n",
        "## [1] 1 2 3\n",
        "\n",
        "# Utilizar la función 'as.numeric()' para convertir la cadena 'g' en un número.\n",
        "as.numeric(g)\n",
        "## [1] 123"
      ],
      "metadata": {
        "colab": {
          "base_uri": "https://localhost:8080/",
          "height": 85
        },
        "id": "A3wicxqjwyVx",
        "outputId": "8e2e473b-d0f3-459e-ddae-63185bb5257d"
      },
      "execution_count": null,
      "outputs": [
        {
          "output_type": "display_data",
          "data": {
            "text/html": [
              "3"
            ],
            "text/markdown": "3",
            "text/latex": "3",
            "text/plain": [
              "[1] 3"
            ]
          },
          "metadata": {}
        },
        {
          "output_type": "display_data",
          "data": {
            "text/html": [
              "1"
            ],
            "text/markdown": "1",
            "text/latex": "1",
            "text/plain": [
              "[1] 1"
            ]
          },
          "metadata": {}
        },
        {
          "output_type": "display_data",
          "data": {
            "text/html": [
              "<style>\n",
              ".list-inline {list-style: none; margin:0; padding: 0}\n",
              ".list-inline>li {display: inline-block}\n",
              ".list-inline>li:not(:last-child)::after {content: \"\\00b7\"; padding: 0 .5ex}\n",
              "</style>\n",
              "<ol class=list-inline><li>1</li><li>2</li><li>3</li></ol>\n"
            ],
            "text/markdown": "1. 1\n2. 2\n3. 3\n\n\n",
            "text/latex": "\\begin{enumerate*}\n\\item 1\n\\item 2\n\\item 3\n\\end{enumerate*}\n",
            "text/plain": [
              "[1] 1 2 3"
            ]
          },
          "metadata": {}
        },
        {
          "output_type": "display_data",
          "data": {
            "text/html": [
              "123"
            ],
            "text/markdown": "123",
            "text/latex": "123",
            "text/plain": [
              "[1] 123"
            ]
          },
          "metadata": {}
        }
      ]
    },
    {
      "cell_type": "markdown",
      "source": [
        "# Matrices y arreglos multidimensionales"
      ],
      "metadata": {
        "id": "4mZIksizwybK"
      }
    },
    {
      "cell_type": "code",
      "source": [
        "# Crear una matriz 5x3 a partir de la secuencia del 1 al 15. La matriz tendrá 5 filas y 3 columnas.\n",
        "matrix(1:15, ncol = 3)\n",
        "## [,1] [,2] [,3]\n",
        "## [1,]    1    6   11\n",
        "## [2,]    2    7   12\n",
        "## [3,]    3    8   13\n",
        "## [4,]    4    9   14\n",
        "## [5,]    5   10   15\n",
        "\n",
        "# Crear una matriz 3x5 a partir de la secuencia del 1 al 15. La matriz tendrá 3 filas y 5 columnas.\n",
        "matrix(1:15, nrow = 3)\n",
        "## [,1] [,2] [,3] [,4] [,5]\n",
        "## [1,]    1    4    7   10   13\n",
        "## [2,]    2    5    8   11   14\n",
        "## [3,]    3    6    9   12   15"
      ],
      "metadata": {
        "colab": {
          "base_uri": "https://localhost:8080/",
          "height": 333
        },
        "id": "tfz4g_kRwygX",
        "outputId": "dea35868-b1ce-4b98-9e33-3be8aa1c030d"
      },
      "execution_count": null,
      "outputs": [
        {
          "output_type": "display_data",
          "data": {
            "text/html": [
              "<table class=\"dataframe\">\n",
              "<caption>A matrix: 5 × 3 of type int</caption>\n",
              "<tbody>\n",
              "\t<tr><td>1</td><td> 6</td><td>11</td></tr>\n",
              "\t<tr><td>2</td><td> 7</td><td>12</td></tr>\n",
              "\t<tr><td>3</td><td> 8</td><td>13</td></tr>\n",
              "\t<tr><td>4</td><td> 9</td><td>14</td></tr>\n",
              "\t<tr><td>5</td><td>10</td><td>15</td></tr>\n",
              "</tbody>\n",
              "</table>\n"
            ],
            "text/markdown": "\nA matrix: 5 × 3 of type int\n\n| 1 |  6 | 11 |\n| 2 |  7 | 12 |\n| 3 |  8 | 13 |\n| 4 |  9 | 14 |\n| 5 | 10 | 15 |\n\n",
            "text/latex": "A matrix: 5 × 3 of type int\n\\begin{tabular}{lll}\n\t 1 &  6 & 11\\\\\n\t 2 &  7 & 12\\\\\n\t 3 &  8 & 13\\\\\n\t 4 &  9 & 14\\\\\n\t 5 & 10 & 15\\\\\n\\end{tabular}\n",
            "text/plain": [
              "     [,1] [,2] [,3]\n",
              "[1,] 1     6   11  \n",
              "[2,] 2     7   12  \n",
              "[3,] 3     8   13  \n",
              "[4,] 4     9   14  \n",
              "[5,] 5    10   15  "
            ]
          },
          "metadata": {}
        },
        {
          "output_type": "display_data",
          "data": {
            "text/html": [
              "<table class=\"dataframe\">\n",
              "<caption>A matrix: 3 × 5 of type int</caption>\n",
              "<tbody>\n",
              "\t<tr><td>1</td><td>4</td><td>7</td><td>10</td><td>13</td></tr>\n",
              "\t<tr><td>2</td><td>5</td><td>8</td><td>11</td><td>14</td></tr>\n",
              "\t<tr><td>3</td><td>6</td><td>9</td><td>12</td><td>15</td></tr>\n",
              "</tbody>\n",
              "</table>\n"
            ],
            "text/markdown": "\nA matrix: 3 × 5 of type int\n\n| 1 | 4 | 7 | 10 | 13 |\n| 2 | 5 | 8 | 11 | 14 |\n| 3 | 6 | 9 | 12 | 15 |\n\n",
            "text/latex": "A matrix: 3 × 5 of type int\n\\begin{tabular}{lllll}\n\t 1 & 4 & 7 & 10 & 13\\\\\n\t 2 & 5 & 8 & 11 & 14\\\\\n\t 3 & 6 & 9 & 12 & 15\\\\\n\\end{tabular}\n",
            "text/plain": [
              "     [,1] [,2] [,3] [,4] [,5]\n",
              "[1,] 1    4    7    10   13  \n",
              "[2,] 2    5    8    11   14  \n",
              "[3,] 3    6    9    12   15  "
            ]
          },
          "metadata": {}
        }
      ]
    },
    {
      "cell_type": "markdown",
      "source": [
        "# Factores"
      ],
      "metadata": {
        "id": "OS4bX5bawylm"
      }
    },
    {
      "cell_type": "code",
      "source": [
        "# Crear un vector llamado 'my.vector' que contiene etiquetas \"treated\" y \"control\".\n",
        "my.vector <- c(\"treated\", \"treated\", \"control\", \"control\", \"control\", \"treated\")\n",
        "\n",
        "# Convertir el vector en un factor utilizando la función 'factor()'. R automáticamente detecta los niveles únicos presentes en 'my.vector'.\n",
        "my.factor <- factor(my.vector)\n",
        "\n",
        "# Mostrar el contenido del factor 'my.factor', que muestra las etiquetas y sus niveles.\n",
        "my.factor\n",
        "## [1] treated treated control control control treated\n",
        "## Levels: control treated\n",
        "\n",
        "# Crear un factor 'my.factor' a partir del vector 'my.vector', pero especificando los niveles manualmente como \"treated\" y \"control\".\n",
        "my.factor <- factor(x = my.vector, levels = c(\"treated\", \"control\"))\n",
        "\n",
        "# Mostrar el contenido del factor 'my.factor' nuevamente. Ahora solo contiene los niveles \"treated\" y \"control\".\n",
        "my.factor"
      ],
      "metadata": {
        "colab": {
          "base_uri": "https://localhost:8080/",
          "height": 85
        },
        "id": "5OhW7KJPwyqy",
        "outputId": "cf5d76c8-fff8-4221-cecf-31b7bf522eaf"
      },
      "execution_count": null,
      "outputs": [
        {
          "output_type": "display_data",
          "data": {
            "text/html": [
              "<style>\n",
              ".list-inline {list-style: none; margin:0; padding: 0}\n",
              ".list-inline>li {display: inline-block}\n",
              ".list-inline>li:not(:last-child)::after {content: \"\\00b7\"; padding: 0 .5ex}\n",
              "</style>\n",
              "<ol class=list-inline><li>treated</li><li>treated</li><li>control</li><li>control</li><li>control</li><li>treated</li></ol>\n",
              "\n",
              "<details>\n",
              "\t<summary style=display:list-item;cursor:pointer>\n",
              "\t\t<strong>Levels</strong>:\n",
              "\t</summary>\n",
              "\t<style>\n",
              "\t.list-inline {list-style: none; margin:0; padding: 0}\n",
              "\t.list-inline>li {display: inline-block}\n",
              "\t.list-inline>li:not(:last-child)::after {content: \"\\00b7\"; padding: 0 .5ex}\n",
              "\t</style>\n",
              "\t<ol class=list-inline><li>'control'</li><li>'treated'</li></ol>\n",
              "</details>"
            ],
            "text/markdown": "1. treated\n2. treated\n3. control\n4. control\n5. control\n6. treated\n\n\n\n**Levels**: 1. 'control'\n2. 'treated'\n\n\n",
            "text/latex": "\\begin{enumerate*}\n\\item treated\n\\item treated\n\\item control\n\\item control\n\\item control\n\\item treated\n\\end{enumerate*}\n\n\\emph{Levels}: \\begin{enumerate*}\n\\item 'control'\n\\item 'treated'\n\\end{enumerate*}\n",
            "text/plain": [
              "[1] treated treated control control control treated\n",
              "Levels: control treated"
            ]
          },
          "metadata": {}
        },
        {
          "output_type": "display_data",
          "data": {
            "text/html": [
              "<style>\n",
              ".list-inline {list-style: none; margin:0; padding: 0}\n",
              ".list-inline>li {display: inline-block}\n",
              ".list-inline>li:not(:last-child)::after {content: \"\\00b7\"; padding: 0 .5ex}\n",
              "</style>\n",
              "<ol class=list-inline><li>treated</li><li>treated</li><li>control</li><li>control</li><li>control</li><li>treated</li></ol>\n",
              "\n",
              "<details>\n",
              "\t<summary style=display:list-item;cursor:pointer>\n",
              "\t\t<strong>Levels</strong>:\n",
              "\t</summary>\n",
              "\t<style>\n",
              "\t.list-inline {list-style: none; margin:0; padding: 0}\n",
              "\t.list-inline>li {display: inline-block}\n",
              "\t.list-inline>li:not(:last-child)::after {content: \"\\00b7\"; padding: 0 .5ex}\n",
              "\t</style>\n",
              "\t<ol class=list-inline><li>'treated'</li><li>'control'</li></ol>\n",
              "</details>"
            ],
            "text/markdown": "1. treated\n2. treated\n3. control\n4. control\n5. control\n6. treated\n\n\n\n**Levels**: 1. 'treated'\n2. 'control'\n\n\n",
            "text/latex": "\\begin{enumerate*}\n\\item treated\n\\item treated\n\\item control\n\\item control\n\\item control\n\\item treated\n\\end{enumerate*}\n\n\\emph{Levels}: \\begin{enumerate*}\n\\item 'treated'\n\\item 'control'\n\\end{enumerate*}\n",
            "text/plain": [
              "[1] treated treated control control control treated\n",
              "Levels: treated control"
            ]
          },
          "metadata": {}
        }
      ]
    },
    {
      "cell_type": "markdown",
      "source": [
        "# Listas"
      ],
      "metadata": {
        "id": "4nKg7NKewyvj"
      }
    },
    {
      "cell_type": "code",
      "source": [
        "# Crear una lista llamada 'a.list' que contiene tres elementos con nombres 'x', 'y', y 'z'.\n",
        "a.list <- list(x = 1:6, y = \"a\", z = c(TRUE, FALSE))\n",
        "\n",
        "# Mostrar el contenido de la lista 'a.list'. Cada elemento tiene su nombre y contenido.\n",
        "a.list\n",
        "## $x\n",
        "## [1] 1 2 3 4 5 6\n",
        "##\n",
        "## $y\n",
        "## [1] \"a\"\n",
        "##\n",
        "## $z\n",
        "## [1] TRUE FALSE"
      ],
      "metadata": {
        "id": "hWjO0zJZwy0N",
        "colab": {
          "base_uri": "https://localhost:8080/",
          "height": 147
        },
        "outputId": "347d9b6c-b5e7-4e83-fb6f-d56278d8016a"
      },
      "execution_count": null,
      "outputs": [
        {
          "output_type": "display_data",
          "data": {
            "text/html": [
              "<dl>\n",
              "\t<dt>$x</dt>\n",
              "\t\t<dd><style>\n",
              ".list-inline {list-style: none; margin:0; padding: 0}\n",
              ".list-inline>li {display: inline-block}\n",
              ".list-inline>li:not(:last-child)::after {content: \"\\00b7\"; padding: 0 .5ex}\n",
              "</style>\n",
              "<ol class=list-inline><li>1</li><li>2</li><li>3</li><li>4</li><li>5</li><li>6</li></ol>\n",
              "</dd>\n",
              "\t<dt>$y</dt>\n",
              "\t\t<dd>'a'</dd>\n",
              "\t<dt>$z</dt>\n",
              "\t\t<dd><style>\n",
              ".list-inline {list-style: none; margin:0; padding: 0}\n",
              ".list-inline>li {display: inline-block}\n",
              ".list-inline>li:not(:last-child)::after {content: \"\\00b7\"; padding: 0 .5ex}\n",
              "</style>\n",
              "<ol class=list-inline><li>TRUE</li><li>FALSE</li></ol>\n",
              "</dd>\n",
              "</dl>\n"
            ],
            "text/markdown": "$x\n:   1. 1\n2. 2\n3. 3\n4. 4\n5. 5\n6. 6\n\n\n\n$y\n:   'a'\n$z\n:   1. TRUE\n2. FALSE\n\n\n\n\n\n",
            "text/latex": "\\begin{description}\n\\item[\\$x] \\begin{enumerate*}\n\\item 1\n\\item 2\n\\item 3\n\\item 4\n\\item 5\n\\item 6\n\\end{enumerate*}\n\n\\item[\\$y] 'a'\n\\item[\\$z] \\begin{enumerate*}\n\\item TRUE\n\\item FALSE\n\\end{enumerate*}\n\n\\end{description}\n",
            "text/plain": [
              "$x\n",
              "[1] 1 2 3 4 5 6\n",
              "\n",
              "$y\n",
              "[1] \"a\"\n",
              "\n",
              "$z\n",
              "[1]  TRUE FALSE\n"
            ]
          },
          "metadata": {}
        }
      ]
    },
    {
      "cell_type": "markdown",
      "source": [
        "# Extracción de miembros"
      ],
      "metadata": {
        "id": "YL82B6zPGOTx"
      }
    },
    {
      "cell_type": "code",
      "source": [
        "# Crear una lista llamada 'a.list' que contiene tres elementos con nombres 'x', 'y', y 'z'.\n",
        "a.list <- list(x = 1:6, y = \"a\", z = c(TRUE, FALSE))\n",
        "\n",
        "# Acceder al elemento 'x' de 'a.list' utilizando el operador '$'.\n",
        "a.list$x\n",
        "## [1] 1 2 3 4 5 6\n",
        "\n",
        "# Acceder al elemento 'x' de 'a.list' utilizando el operador '[[]]'.\n",
        "a.list[[\"x\"]]\n",
        "## [1] 1 2 3 4 5 6\n",
        "\n",
        "# Acceder al primer elemento de 'a.list' utilizando el operador '[[]]'.\n",
        "a.list[[1]]\n",
        "## [1] 1 2 3 4 5 6\n",
        "\n",
        "# Acceder al elemento 'x' de 'a.list' utilizando el operador '[]' con comillas.\n",
        "a.list[\"x\"]\n",
        "## $x\n",
        "## [1] 1 2 3 4 5 6\n",
        "\n",
        "# Acceder al primer elemento de 'a.list' utilizando el operador '[]' sin comillas.\n",
        "a.list[1]\n",
        "## $x\n",
        "## [1] 1 2 3 4 5 6\n",
        "\n",
        "# Acceder a los elementos 'x' y 'z' de 'a.list' utilizando un vector de índices.\n",
        "a.list[c(1, 3)]\n",
        "## $x\n",
        "## [1] 1 2 3 4 5 6\n",
        "##\n",
        "## $z\n",
        "## [1] TRUE FALSE"
      ],
      "metadata": {
        "colab": {
          "base_uri": "https://localhost:8080/",
          "height": 232
        },
        "id": "ou5OQkHBGOZr",
        "outputId": "74b5ab80-20f9-4c7b-830a-13844ea913be"
      },
      "execution_count": null,
      "outputs": [
        {
          "output_type": "display_data",
          "data": {
            "text/html": [
              "<style>\n",
              ".list-inline {list-style: none; margin:0; padding: 0}\n",
              ".list-inline>li {display: inline-block}\n",
              ".list-inline>li:not(:last-child)::after {content: \"\\00b7\"; padding: 0 .5ex}\n",
              "</style>\n",
              "<ol class=list-inline><li>1</li><li>2</li><li>3</li><li>4</li><li>5</li><li>6</li></ol>\n"
            ],
            "text/markdown": "1. 1\n2. 2\n3. 3\n4. 4\n5. 5\n6. 6\n\n\n",
            "text/latex": "\\begin{enumerate*}\n\\item 1\n\\item 2\n\\item 3\n\\item 4\n\\item 5\n\\item 6\n\\end{enumerate*}\n",
            "text/plain": [
              "[1] 1 2 3 4 5 6"
            ]
          },
          "metadata": {}
        },
        {
          "output_type": "display_data",
          "data": {
            "text/html": [
              "<style>\n",
              ".list-inline {list-style: none; margin:0; padding: 0}\n",
              ".list-inline>li {display: inline-block}\n",
              ".list-inline>li:not(:last-child)::after {content: \"\\00b7\"; padding: 0 .5ex}\n",
              "</style>\n",
              "<ol class=list-inline><li>1</li><li>2</li><li>3</li><li>4</li><li>5</li><li>6</li></ol>\n"
            ],
            "text/markdown": "1. 1\n2. 2\n3. 3\n4. 4\n5. 5\n6. 6\n\n\n",
            "text/latex": "\\begin{enumerate*}\n\\item 1\n\\item 2\n\\item 3\n\\item 4\n\\item 5\n\\item 6\n\\end{enumerate*}\n",
            "text/plain": [
              "[1] 1 2 3 4 5 6"
            ]
          },
          "metadata": {}
        },
        {
          "output_type": "display_data",
          "data": {
            "text/html": [
              "<style>\n",
              ".list-inline {list-style: none; margin:0; padding: 0}\n",
              ".list-inline>li {display: inline-block}\n",
              ".list-inline>li:not(:last-child)::after {content: \"\\00b7\"; padding: 0 .5ex}\n",
              "</style>\n",
              "<ol class=list-inline><li>1</li><li>2</li><li>3</li><li>4</li><li>5</li><li>6</li></ol>\n"
            ],
            "text/markdown": "1. 1\n2. 2\n3. 3\n4. 4\n5. 5\n6. 6\n\n\n",
            "text/latex": "\\begin{enumerate*}\n\\item 1\n\\item 2\n\\item 3\n\\item 4\n\\item 5\n\\item 6\n\\end{enumerate*}\n",
            "text/plain": [
              "[1] 1 2 3 4 5 6"
            ]
          },
          "metadata": {}
        },
        {
          "output_type": "display_data",
          "data": {
            "text/html": [
              "<strong>$x</strong> = <style>\n",
              ".list-inline {list-style: none; margin:0; padding: 0}\n",
              ".list-inline>li {display: inline-block}\n",
              ".list-inline>li:not(:last-child)::after {content: \"\\00b7\"; padding: 0 .5ex}\n",
              "</style>\n",
              "<ol class=list-inline><li>1</li><li>2</li><li>3</li><li>4</li><li>5</li><li>6</li></ol>\n"
            ],
            "text/markdown": "**$x** = 1. 1\n2. 2\n3. 3\n4. 4\n5. 5\n6. 6\n\n\n",
            "text/latex": "\\textbf{\\$x} = \\begin{enumerate*}\n\\item 1\n\\item 2\n\\item 3\n\\item 4\n\\item 5\n\\item 6\n\\end{enumerate*}\n",
            "text/plain": [
              "$x\n",
              "[1] 1 2 3 4 5 6\n"
            ]
          },
          "metadata": {}
        },
        {
          "output_type": "display_data",
          "data": {
            "text/html": [
              "<strong>$x</strong> = <style>\n",
              ".list-inline {list-style: none; margin:0; padding: 0}\n",
              ".list-inline>li {display: inline-block}\n",
              ".list-inline>li:not(:last-child)::after {content: \"\\00b7\"; padding: 0 .5ex}\n",
              "</style>\n",
              "<ol class=list-inline><li>1</li><li>2</li><li>3</li><li>4</li><li>5</li><li>6</li></ol>\n"
            ],
            "text/markdown": "**$x** = 1. 1\n2. 2\n3. 3\n4. 4\n5. 5\n6. 6\n\n\n",
            "text/latex": "\\textbf{\\$x} = \\begin{enumerate*}\n\\item 1\n\\item 2\n\\item 3\n\\item 4\n\\item 5\n\\item 6\n\\end{enumerate*}\n",
            "text/plain": [
              "$x\n",
              "[1] 1 2 3 4 5 6\n"
            ]
          },
          "metadata": {}
        },
        {
          "output_type": "display_data",
          "data": {
            "text/html": [
              "<dl>\n",
              "\t<dt>$x</dt>\n",
              "\t\t<dd><style>\n",
              ".list-inline {list-style: none; margin:0; padding: 0}\n",
              ".list-inline>li {display: inline-block}\n",
              ".list-inline>li:not(:last-child)::after {content: \"\\00b7\"; padding: 0 .5ex}\n",
              "</style>\n",
              "<ol class=list-inline><li>1</li><li>2</li><li>3</li><li>4</li><li>5</li><li>6</li></ol>\n",
              "</dd>\n",
              "\t<dt>$z</dt>\n",
              "\t\t<dd><style>\n",
              ".list-inline {list-style: none; margin:0; padding: 0}\n",
              ".list-inline>li {display: inline-block}\n",
              ".list-inline>li:not(:last-child)::after {content: \"\\00b7\"; padding: 0 .5ex}\n",
              "</style>\n",
              "<ol class=list-inline><li>TRUE</li><li>FALSE</li></ol>\n",
              "</dd>\n",
              "</dl>\n"
            ],
            "text/markdown": "$x\n:   1. 1\n2. 2\n3. 3\n4. 4\n5. 5\n6. 6\n\n\n\n$z\n:   1. TRUE\n2. FALSE\n\n\n\n\n\n",
            "text/latex": "\\begin{description}\n\\item[\\$x] \\begin{enumerate*}\n\\item 1\n\\item 2\n\\item 3\n\\item 4\n\\item 5\n\\item 6\n\\end{enumerate*}\n\n\\item[\\$z] \\begin{enumerate*}\n\\item TRUE\n\\item FALSE\n\\end{enumerate*}\n\n\\end{description}\n",
            "text/plain": [
              "$x\n",
              "[1] 1 2 3 4 5 6\n",
              "\n",
              "$z\n",
              "[1]  TRUE FALSE\n"
            ]
          },
          "metadata": {}
        }
      ]
    },
    {
      "cell_type": "markdown",
      "source": [
        "# Data frames"
      ],
      "metadata": {
        "id": "vrSA-HkQGOjS"
      }
    },
    {
      "cell_type": "code",
      "source": [
        "# Crear un data frame llamado 'a.df' con tres columnas: 'x', 'y', y 'z'.\n",
        "a.df <- data.frame(x = 1:6, y = \"a\", z = c(TRUE, FALSE))\n",
        "\n",
        "# Mostrar el contenido del data frame 'a.df'.\n",
        "a.df\n",
        "##   x y     z\n",
        "## 1 1 a  TRUE\n",
        "## 2 2 a FALSE\n",
        "## 3 3 a  TRUE\n",
        "## 4 4 a FALSE\n",
        "## 5 5 a  TRUE\n",
        "## 6 6 a FALSE\n",
        "\n",
        "# Utilizar la función 'str()' para mostrar la estructura del data frame 'a.df', mostrando el tipo de datos y la estructura de las columnas.\n",
        "str(a.df)\n",
        "## 'data.frame': 6 obs. of  3 variables:\n",
        "##  $ x: int  1 2 3 4 5 6\n",
        "##  $ y: chr  \"a\" \"a\" \"a\" \"a\" ...\n",
        "##  $ z: logi  TRUE FALSE TRUE FALSE TRUE FALSE\n",
        "\n",
        "# Utilizar la función 'class()' para verificar la clase del objeto 'a.df', que es \"data.frame\".\n",
        "class(a.df)\n",
        "## [1] \"data.frame\"\n",
        "\n",
        "# Utilizar la función 'mode()' para verificar el modo del objeto 'a.df', que muestra \"list\". Los data frames en R se implementan como listas.\n",
        "mode(a.df)\n",
        "## [1] \"list\"\n",
        "\n",
        "# Utilizar la función 'is.data.frame()' para verificar si 'a.df' es un data frame, lo cual es verdadero (TRUE).\n",
        "is.data.frame(a.df)\n",
        "## [1] TRUE\n",
        "\n",
        "# Utilizar la función 'is.list()' para verificar si 'a.df' es una lista, lo cual es verdadero (TRUE), ya que los data frames son una forma especial de lista en R.\n",
        "is.list(a.df)\n",
        "## [1] TRUE"
      ],
      "metadata": {
        "colab": {
          "base_uri": "https://localhost:8080/",
          "height": 419
        },
        "id": "sCbMbERCGOpO",
        "outputId": "355327fc-6ad8-4b90-efab-dbe5a51b6262"
      },
      "execution_count": null,
      "outputs": [
        {
          "output_type": "display_data",
          "data": {
            "text/html": [
              "<table class=\"dataframe\">\n",
              "<caption>A data.frame: 6 × 3</caption>\n",
              "<thead>\n",
              "\t<tr><th scope=col>x</th><th scope=col>y</th><th scope=col>z</th></tr>\n",
              "\t<tr><th scope=col>&lt;int&gt;</th><th scope=col>&lt;chr&gt;</th><th scope=col>&lt;lgl&gt;</th></tr>\n",
              "</thead>\n",
              "<tbody>\n",
              "\t<tr><td>1</td><td>a</td><td> TRUE</td></tr>\n",
              "\t<tr><td>2</td><td>a</td><td>FALSE</td></tr>\n",
              "\t<tr><td>3</td><td>a</td><td> TRUE</td></tr>\n",
              "\t<tr><td>4</td><td>a</td><td>FALSE</td></tr>\n",
              "\t<tr><td>5</td><td>a</td><td> TRUE</td></tr>\n",
              "\t<tr><td>6</td><td>a</td><td>FALSE</td></tr>\n",
              "</tbody>\n",
              "</table>\n"
            ],
            "text/markdown": "\nA data.frame: 6 × 3\n\n| x &lt;int&gt; | y &lt;chr&gt; | z &lt;lgl&gt; |\n|---|---|---|\n| 1 | a |  TRUE |\n| 2 | a | FALSE |\n| 3 | a |  TRUE |\n| 4 | a | FALSE |\n| 5 | a |  TRUE |\n| 6 | a | FALSE |\n\n",
            "text/latex": "A data.frame: 6 × 3\n\\begin{tabular}{lll}\n x & y & z\\\\\n <int> & <chr> & <lgl>\\\\\n\\hline\n\t 1 & a &  TRUE\\\\\n\t 2 & a & FALSE\\\\\n\t 3 & a &  TRUE\\\\\n\t 4 & a & FALSE\\\\\n\t 5 & a &  TRUE\\\\\n\t 6 & a & FALSE\\\\\n\\end{tabular}\n",
            "text/plain": [
              "  x y z    \n",
              "1 1 a  TRUE\n",
              "2 2 a FALSE\n",
              "3 3 a  TRUE\n",
              "4 4 a FALSE\n",
              "5 5 a  TRUE\n",
              "6 6 a FALSE"
            ]
          },
          "metadata": {}
        },
        {
          "output_type": "stream",
          "name": "stdout",
          "text": [
            "'data.frame':\t6 obs. of  3 variables:\n",
            " $ x: int  1 2 3 4 5 6\n",
            " $ y: chr  \"a\" \"a\" \"a\" \"a\" ...\n",
            " $ z: logi  TRUE FALSE TRUE FALSE TRUE FALSE\n"
          ]
        },
        {
          "output_type": "display_data",
          "data": {
            "text/html": [
              "'data.frame'"
            ],
            "text/markdown": "'data.frame'",
            "text/latex": "'data.frame'",
            "text/plain": [
              "[1] \"data.frame\""
            ]
          },
          "metadata": {}
        },
        {
          "output_type": "display_data",
          "data": {
            "text/html": [
              "'list'"
            ],
            "text/markdown": "'list'",
            "text/latex": "'list'",
            "text/plain": [
              "[1] \"list\""
            ]
          },
          "metadata": {}
        },
        {
          "output_type": "display_data",
          "data": {
            "text/html": [
              "TRUE"
            ],
            "text/markdown": "TRUE",
            "text/latex": "TRUE",
            "text/plain": [
              "[1] TRUE"
            ]
          },
          "metadata": {}
        },
        {
          "output_type": "display_data",
          "data": {
            "text/html": [
              "TRUE"
            ],
            "text/markdown": "TRUE",
            "text/latex": "TRUE",
            "text/plain": [
              "[1] TRUE"
            ]
          },
          "metadata": {}
        }
      ]
    },
    {
      "cell_type": "markdown",
      "source": [
        "## Opreraciones con data frames"
      ],
      "metadata": {
        "id": "rAdogCbeGOui"
      }
    },
    {
      "cell_type": "code",
      "source": [
        "# Crear un data frame llamado 'a.df' con tres columnas: 'x', 'y', y 'z'.\n",
        "a.df <- data.frame(x = 1:6, y = \"a\", z = c(TRUE, FALSE))\n",
        "\n",
        "# Utilizar la función 'subset()' para seleccionar las filas de 'a.df' donde 'x' es mayor que 3.\n",
        "subset(a.df, x > 3)\n",
        "##   x y     z\n",
        "## 4 4 a FALSE\n",
        "## 5 5 a  TRUE\n",
        "## 6 6 a FALSE\n",
        "\n",
        "# Utilizar 'subset()' nuevamente para seleccionar las mismas filas, pero luego eliminar la tercera columna ('z') utilizando '[ , -3]'.\n",
        "subset(a.df, x > 3)[ , -3]\n",
        "##   x y\n",
        "## 4 4 a\n",
        "## 5 5 a\n",
        "## 6 6 a\n",
        "\n",
        "# Utilizar 'subset()' para seleccionar las mismas filas y mostrar solo la columna 'x' utilizando '$x'.\n",
        "subset(a.df, x > 3)$x\n",
        "## [1] 4 5 6"
      ],
      "metadata": {
        "colab": {
          "base_uri": "https://localhost:8080/",
          "height": 380
        },
        "id": "foAM-nXiGO1K",
        "outputId": "f7859df9-77a2-41bf-b9ac-49ad9c2aed72"
      },
      "execution_count": null,
      "outputs": [
        {
          "output_type": "display_data",
          "data": {
            "text/html": [
              "<table class=\"dataframe\">\n",
              "<caption>A data.frame: 3 × 3</caption>\n",
              "<thead>\n",
              "\t<tr><th></th><th scope=col>x</th><th scope=col>y</th><th scope=col>z</th></tr>\n",
              "\t<tr><th></th><th scope=col>&lt;int&gt;</th><th scope=col>&lt;chr&gt;</th><th scope=col>&lt;lgl&gt;</th></tr>\n",
              "</thead>\n",
              "<tbody>\n",
              "\t<tr><th scope=row>4</th><td>4</td><td>a</td><td>FALSE</td></tr>\n",
              "\t<tr><th scope=row>5</th><td>5</td><td>a</td><td> TRUE</td></tr>\n",
              "\t<tr><th scope=row>6</th><td>6</td><td>a</td><td>FALSE</td></tr>\n",
              "</tbody>\n",
              "</table>\n"
            ],
            "text/markdown": "\nA data.frame: 3 × 3\n\n| <!--/--> | x &lt;int&gt; | y &lt;chr&gt; | z &lt;lgl&gt; |\n|---|---|---|---|\n| 4 | 4 | a | FALSE |\n| 5 | 5 | a |  TRUE |\n| 6 | 6 | a | FALSE |\n\n",
            "text/latex": "A data.frame: 3 × 3\n\\begin{tabular}{r|lll}\n  & x & y & z\\\\\n  & <int> & <chr> & <lgl>\\\\\n\\hline\n\t4 & 4 & a & FALSE\\\\\n\t5 & 5 & a &  TRUE\\\\\n\t6 & 6 & a & FALSE\\\\\n\\end{tabular}\n",
            "text/plain": [
              "  x y z    \n",
              "4 4 a FALSE\n",
              "5 5 a  TRUE\n",
              "6 6 a FALSE"
            ]
          },
          "metadata": {}
        },
        {
          "output_type": "display_data",
          "data": {
            "text/html": [
              "<table class=\"dataframe\">\n",
              "<caption>A data.frame: 3 × 2</caption>\n",
              "<thead>\n",
              "\t<tr><th></th><th scope=col>x</th><th scope=col>y</th></tr>\n",
              "\t<tr><th></th><th scope=col>&lt;int&gt;</th><th scope=col>&lt;chr&gt;</th></tr>\n",
              "</thead>\n",
              "<tbody>\n",
              "\t<tr><th scope=row>4</th><td>4</td><td>a</td></tr>\n",
              "\t<tr><th scope=row>5</th><td>5</td><td>a</td></tr>\n",
              "\t<tr><th scope=row>6</th><td>6</td><td>a</td></tr>\n",
              "</tbody>\n",
              "</table>\n"
            ],
            "text/markdown": "\nA data.frame: 3 × 2\n\n| <!--/--> | x &lt;int&gt; | y &lt;chr&gt; |\n|---|---|---|\n| 4 | 4 | a |\n| 5 | 5 | a |\n| 6 | 6 | a |\n\n",
            "text/latex": "A data.frame: 3 × 2\n\\begin{tabular}{r|ll}\n  & x & y\\\\\n  & <int> & <chr>\\\\\n\\hline\n\t4 & 4 & a\\\\\n\t5 & 5 & a\\\\\n\t6 & 6 & a\\\\\n\\end{tabular}\n",
            "text/plain": [
              "  x y\n",
              "4 4 a\n",
              "5 5 a\n",
              "6 6 a"
            ]
          },
          "metadata": {}
        },
        {
          "output_type": "display_data",
          "data": {
            "text/html": [
              "<style>\n",
              ".list-inline {list-style: none; margin:0; padding: 0}\n",
              ".list-inline>li {display: inline-block}\n",
              ".list-inline>li:not(:last-child)::after {content: \"\\00b7\"; padding: 0 .5ex}\n",
              "</style>\n",
              "<ol class=list-inline><li>4</li><li>5</li><li>6</li></ol>\n"
            ],
            "text/markdown": "1. 4\n2. 5\n3. 6\n\n\n",
            "text/latex": "\\begin{enumerate*}\n\\item 4\n\\item 5\n\\item 6\n\\end{enumerate*}\n",
            "text/plain": [
              "[1] 4 5 6"
            ]
          },
          "metadata": {}
        }
      ]
    },
    {
      "cell_type": "markdown",
      "source": [
        "# Atributos de objetos en R"
      ],
      "metadata": {
        "id": "j_AeOR_yGO6i"
      }
    },
    {
      "cell_type": "code",
      "source": [
        "# Crear un data frame llamado 'a.df' con tres columnas: 'x', 'y', y 'z'.\n",
        "a.df <- data.frame(x = 1:6, y = \"a\", z = c(TRUE, FALSE))\n",
        "\n",
        "# Utilizar la función 'comment()' para verificar si hay un comentario asociado al data frame, que inicialmente es NULL.\n",
        "comment(a.df)\n",
        "## NULL\n",
        "\n",
        "# Asignar un comentario al data frame utilizando 'comment()'.\n",
        "comment(a.df) <- \"this is stored as a comment\"\n",
        "\n",
        "# Verificar el comentario nuevamente utilizando 'comment()'.\n",
        "comment(a.df)\n",
        "## [1] \"this is stored as a comment\"\n",
        "\n",
        "# Obtener los nombres de las columnas del data frame.\n",
        "names(a.df)\n",
        "## [1] \"x\" \"y\" \"z\"\n",
        "\n",
        "# Cambiar los nombres de las columnas a mayúsculas utilizando 'toupper()' y asignarlos de nuevo a 'names(a.df)'.\n",
        "names(a.df) <- toupper(names(a.df))\n",
        "\n",
        "# Verificar los nuevos nombres de las columnas.\n",
        "names(a.df)\n",
        "## [1] \"X\" \"Y\" \"Z\"\n",
        "\n",
        "# Utilizar 'attr()' para asignar un atributo personalizado (\"my.attribute\") al data frame.\n",
        "attr(a.df, \"my.attribute\") <- \"this is stored in my attribute\"\n",
        "\n",
        "# Verificar los atributos del data frame utilizando 'attributes(a.df)'.\n",
        "attributes(a.df)\n",
        "## $names\n",
        "## [1] \"X\" \"Y\" \"Z\"\n",
        "##\n",
        "## $class\n",
        "## [1] \"data.frame\"\n",
        "##\n",
        "## $row.names\n",
        "## [1] 1 2 3 4 5 6\n",
        "##\n",
        "## $comment\n",
        "## [1] \"this is stored as a comment\"\n",
        "##\n",
        "## $my.attribute\n",
        "## [1] \"this is stored in my attribute\""
      ],
      "metadata": {
        "colab": {
          "base_uri": "https://localhost:8080/",
          "height": 283
        },
        "id": "U2rqq0rLGO_2",
        "outputId": "4d1cfc43-0567-4afa-8f05-0278a7c41343"
      },
      "execution_count": null,
      "outputs": [
        {
          "output_type": "display_data",
          "data": {
            "text/plain": [
              "NULL"
            ]
          },
          "metadata": {}
        },
        {
          "output_type": "display_data",
          "data": {
            "text/html": [
              "'this is stored as a comment'"
            ],
            "text/markdown": "'this is stored as a comment'",
            "text/latex": "'this is stored as a comment'",
            "text/plain": [
              "[1] \"this is stored as a comment\""
            ]
          },
          "metadata": {}
        },
        {
          "output_type": "display_data",
          "data": {
            "text/html": [
              "<style>\n",
              ".list-inline {list-style: none; margin:0; padding: 0}\n",
              ".list-inline>li {display: inline-block}\n",
              ".list-inline>li:not(:last-child)::after {content: \"\\00b7\"; padding: 0 .5ex}\n",
              "</style>\n",
              "<ol class=list-inline><li>'x'</li><li>'y'</li><li>'z'</li></ol>\n"
            ],
            "text/markdown": "1. 'x'\n2. 'y'\n3. 'z'\n\n\n",
            "text/latex": "\\begin{enumerate*}\n\\item 'x'\n\\item 'y'\n\\item 'z'\n\\end{enumerate*}\n",
            "text/plain": [
              "[1] \"x\" \"y\" \"z\""
            ]
          },
          "metadata": {}
        },
        {
          "output_type": "display_data",
          "data": {
            "text/html": [
              "<style>\n",
              ".list-inline {list-style: none; margin:0; padding: 0}\n",
              ".list-inline>li {display: inline-block}\n",
              ".list-inline>li:not(:last-child)::after {content: \"\\00b7\"; padding: 0 .5ex}\n",
              "</style>\n",
              "<ol class=list-inline><li>'X'</li><li>'Y'</li><li>'Z'</li></ol>\n"
            ],
            "text/markdown": "1. 'X'\n2. 'Y'\n3. 'Z'\n\n\n",
            "text/latex": "\\begin{enumerate*}\n\\item 'X'\n\\item 'Y'\n\\item 'Z'\n\\end{enumerate*}\n",
            "text/plain": [
              "[1] \"X\" \"Y\" \"Z\""
            ]
          },
          "metadata": {}
        },
        {
          "output_type": "display_data",
          "data": {
            "text/html": [
              "<dl>\n",
              "\t<dt>$names</dt>\n",
              "\t\t<dd><style>\n",
              ".list-inline {list-style: none; margin:0; padding: 0}\n",
              ".list-inline>li {display: inline-block}\n",
              ".list-inline>li:not(:last-child)::after {content: \"\\00b7\"; padding: 0 .5ex}\n",
              "</style>\n",
              "<ol class=list-inline><li>'X'</li><li>'Y'</li><li>'Z'</li></ol>\n",
              "</dd>\n",
              "\t<dt>$class</dt>\n",
              "\t\t<dd>'data.frame'</dd>\n",
              "\t<dt>$row.names</dt>\n",
              "\t\t<dd><style>\n",
              ".list-inline {list-style: none; margin:0; padding: 0}\n",
              ".list-inline>li {display: inline-block}\n",
              ".list-inline>li:not(:last-child)::after {content: \"\\00b7\"; padding: 0 .5ex}\n",
              "</style>\n",
              "<ol class=list-inline><li>1</li><li>2</li><li>3</li><li>4</li><li>5</li><li>6</li></ol>\n",
              "</dd>\n",
              "\t<dt>$comment</dt>\n",
              "\t\t<dd>'this is stored as a comment'</dd>\n",
              "\t<dt>$my.attribute</dt>\n",
              "\t\t<dd>'this is stored in my attribute'</dd>\n",
              "</dl>\n"
            ],
            "text/markdown": "$names\n:   1. 'X'\n2. 'Y'\n3. 'Z'\n\n\n\n$class\n:   'data.frame'\n$row.names\n:   1. 1\n2. 2\n3. 3\n4. 4\n5. 5\n6. 6\n\n\n\n$comment\n:   'this is stored as a comment'\n$my.attribute\n:   'this is stored in my attribute'\n\n\n",
            "text/latex": "\\begin{description}\n\\item[\\$names] \\begin{enumerate*}\n\\item 'X'\n\\item 'Y'\n\\item 'Z'\n\\end{enumerate*}\n\n\\item[\\$class] 'data.frame'\n\\item[\\$row.names] \\begin{enumerate*}\n\\item 1\n\\item 2\n\\item 3\n\\item 4\n\\item 5\n\\item 6\n\\end{enumerate*}\n\n\\item[\\$comment] 'this is stored as a comment'\n\\item[\\$my.attribute] 'this is stored in my attribute'\n\\end{description}\n",
            "text/plain": [
              "$names\n",
              "[1] \"X\" \"Y\" \"Z\"\n",
              "\n",
              "$class\n",
              "[1] \"data.frame\"\n",
              "\n",
              "$row.names\n",
              "[1] 1 2 3 4 5 6\n",
              "\n",
              "$comment\n",
              "[1] \"this is stored as a comment\"\n",
              "\n",
              "$my.attribute\n",
              "[1] \"this is stored in my attribute\"\n"
            ]
          },
          "metadata": {}
        }
      ]
    },
    {
      "cell_type": "markdown",
      "source": [
        "# Guardar y cargar información"
      ],
      "metadata": {
        "id": "Q22GZ_rSGPE-"
      }
    },
    {
      "cell_type": "code",
      "source": [
        "# Cargar el conjunto de datos 'cars'.\n",
        "data(cars)\n",
        "\n",
        "# Mostrar las primeras 5 filas del conjunto de datos 'cars'.\n",
        "head(cars)"
      ],
      "metadata": {
        "colab": {
          "base_uri": "https://localhost:8080/",
          "height": 283
        },
        "id": "7o92J0jcGPKa",
        "outputId": "d6cf164d-07e9-4d87-e819-44f161eb3d27"
      },
      "execution_count": null,
      "outputs": [
        {
          "output_type": "display_data",
          "data": {
            "text/html": [
              "<table class=\"dataframe\">\n",
              "<caption>A data.frame: 6 × 2</caption>\n",
              "<thead>\n",
              "\t<tr><th></th><th scope=col>speed</th><th scope=col>dist</th></tr>\n",
              "\t<tr><th></th><th scope=col>&lt;dbl&gt;</th><th scope=col>&lt;dbl&gt;</th></tr>\n",
              "</thead>\n",
              "<tbody>\n",
              "\t<tr><th scope=row>1</th><td>4</td><td> 2</td></tr>\n",
              "\t<tr><th scope=row>2</th><td>4</td><td>10</td></tr>\n",
              "\t<tr><th scope=row>3</th><td>7</td><td> 4</td></tr>\n",
              "\t<tr><th scope=row>4</th><td>7</td><td>22</td></tr>\n",
              "\t<tr><th scope=row>5</th><td>8</td><td>16</td></tr>\n",
              "\t<tr><th scope=row>6</th><td>9</td><td>10</td></tr>\n",
              "</tbody>\n",
              "</table>\n"
            ],
            "text/markdown": "\nA data.frame: 6 × 2\n\n| <!--/--> | speed &lt;dbl&gt; | dist &lt;dbl&gt; |\n|---|---|---|\n| 1 | 4 |  2 |\n| 2 | 4 | 10 |\n| 3 | 7 |  4 |\n| 4 | 7 | 22 |\n| 5 | 8 | 16 |\n| 6 | 9 | 10 |\n\n",
            "text/latex": "A data.frame: 6 × 2\n\\begin{tabular}{r|ll}\n  & speed & dist\\\\\n  & <dbl> & <dbl>\\\\\n\\hline\n\t1 & 4 &  2\\\\\n\t2 & 4 & 10\\\\\n\t3 & 7 &  4\\\\\n\t4 & 7 & 22\\\\\n\t5 & 8 & 16\\\\\n\t6 & 9 & 10\\\\\n\\end{tabular}\n",
            "text/plain": [
              "  speed dist\n",
              "1 4      2  \n",
              "2 4     10  \n",
              "3 7      4  \n",
              "4 7     22  \n",
              "5 8     16  \n",
              "6 9     10  "
            ]
          },
          "metadata": {}
        }
      ]
    },
    {
      "cell_type": "markdown",
      "source": [
        "## Archivos .rda"
      ],
      "metadata": {
        "id": "egH_XpYKHbMg"
      }
    },
    {
      "cell_type": "code",
      "source": [
        "my.df <- data.frame(x = 1:5, y = 5:1)\n",
        "my.df\n",
        "## x y\n",
        "## 1 1 5\n",
        "## 2 2 4\n",
        "## 3 3 3\n",
        "## 4 4 2\n",
        "## 5 5 1\n",
        "save(my.df, file = \"my-df.rda\")"
      ],
      "metadata": {
        "colab": {
          "base_uri": "https://localhost:8080/",
          "height": 269
        },
        "id": "Q9ITvQ-8HZrO",
        "outputId": "070b81c3-a58e-4b5c-eb1a-182e60b51c3d"
      },
      "execution_count": null,
      "outputs": [
        {
          "output_type": "display_data",
          "data": {
            "text/html": [
              "<table class=\"dataframe\">\n",
              "<caption>A data.frame: 5 × 2</caption>\n",
              "<thead>\n",
              "\t<tr><th scope=col>x</th><th scope=col>y</th></tr>\n",
              "\t<tr><th scope=col>&lt;int&gt;</th><th scope=col>&lt;int&gt;</th></tr>\n",
              "</thead>\n",
              "<tbody>\n",
              "\t<tr><td>1</td><td>5</td></tr>\n",
              "\t<tr><td>2</td><td>4</td></tr>\n",
              "\t<tr><td>3</td><td>3</td></tr>\n",
              "\t<tr><td>4</td><td>2</td></tr>\n",
              "\t<tr><td>5</td><td>1</td></tr>\n",
              "</tbody>\n",
              "</table>\n"
            ],
            "text/markdown": "\nA data.frame: 5 × 2\n\n| x &lt;int&gt; | y &lt;int&gt; |\n|---|---|\n| 1 | 5 |\n| 2 | 4 |\n| 3 | 3 |\n| 4 | 2 |\n| 5 | 1 |\n\n",
            "text/latex": "A data.frame: 5 × 2\n\\begin{tabular}{ll}\n x & y\\\\\n <int> & <int>\\\\\n\\hline\n\t 1 & 5\\\\\n\t 2 & 4\\\\\n\t 3 & 3\\\\\n\t 4 & 2\\\\\n\t 5 & 1\\\\\n\\end{tabular}\n",
            "text/plain": [
              "  x y\n",
              "1 1 5\n",
              "2 2 4\n",
              "3 3 3\n",
              "4 4 2\n",
              "5 5 1"
            ]
          },
          "metadata": {}
        }
      ]
    },
    {
      "cell_type": "markdown",
      "source": [
        "## Archivos .rds"
      ],
      "metadata": {
        "id": "vA8lQaYoJT78"
      }
    },
    {
      "cell_type": "code",
      "source": [
        "# Crear un data frame 'my.df' con datos.\n",
        "my.df <- data.frame(x = 1:5, y = 5:1)\n",
        "\n",
        "# Guardar el objeto de datos 'my.df' en un archivo con formato RDS llamado \"my-df.rds\".\n",
        "saveRDS(my.df, \"my-df.rds\")\n",
        "\n",
        "\n",
        "# Leer el objeto de datos desde el archivo \"my-df.rds\" y asignarlo a una nueva variable.\n",
        "new_df <- readRDS(\"my-df.rds\")\n",
        "\n",
        "# Mostrar el contenido del objeto de datos leído 'new_df'.\n",
        "new_df"
      ],
      "metadata": {
        "colab": {
          "base_uri": "https://localhost:8080/",
          "height": 269
        },
        "id": "h0He8vpNJUCA",
        "outputId": "3980017d-4064-4e70-b149-9c63e4b8e3d0"
      },
      "execution_count": null,
      "outputs": [
        {
          "output_type": "display_data",
          "data": {
            "text/html": [
              "<table class=\"dataframe\">\n",
              "<caption>A data.frame: 5 × 2</caption>\n",
              "<thead>\n",
              "\t<tr><th scope=col>x</th><th scope=col>y</th></tr>\n",
              "\t<tr><th scope=col>&lt;int&gt;</th><th scope=col>&lt;int&gt;</th></tr>\n",
              "</thead>\n",
              "<tbody>\n",
              "\t<tr><td>1</td><td>5</td></tr>\n",
              "\t<tr><td>2</td><td>4</td></tr>\n",
              "\t<tr><td>3</td><td>3</td></tr>\n",
              "\t<tr><td>4</td><td>2</td></tr>\n",
              "\t<tr><td>5</td><td>1</td></tr>\n",
              "</tbody>\n",
              "</table>\n"
            ],
            "text/markdown": "\nA data.frame: 5 × 2\n\n| x &lt;int&gt; | y &lt;int&gt; |\n|---|---|\n| 1 | 5 |\n| 2 | 4 |\n| 3 | 3 |\n| 4 | 2 |\n| 5 | 1 |\n\n",
            "text/latex": "A data.frame: 5 × 2\n\\begin{tabular}{ll}\n x & y\\\\\n <int> & <int>\\\\\n\\hline\n\t 1 & 5\\\\\n\t 2 & 4\\\\\n\t 3 & 3\\\\\n\t 4 & 2\\\\\n\t 5 & 1\\\\\n\\end{tabular}\n",
            "text/plain": [
              "  x y\n",
              "1 1 5\n",
              "2 2 4\n",
              "3 3 3\n",
              "4 4 2\n",
              "5 5 1"
            ]
          },
          "metadata": {}
        }
      ]
    },
    {
      "cell_type": "markdown",
      "source": [
        "## Buscar en los datos"
      ],
      "metadata": {
        "id": "eUwGj9OWJUIU"
      }
    },
    {
      "cell_type": "code",
      "source": [
        "# Verificar la clase del conjunto de datos \"cars\". Muestra que es un data frame.\n",
        "class(cars)\n",
        "## [1] \"data.frame\"\n",
        "\n",
        "# Obtener el número de filas en el conjunto de datos \"cars\". Muestra que tiene 50 filas.\n",
        "nrow(cars)\n",
        "## [1] 50\n",
        "\n",
        "# Obtener el número de columnas en el conjunto de datos \"cars\". Muestra que tiene 2 columnas.\n",
        "ncol(cars)\n",
        "## [1] 2\n",
        "\n",
        "# Obtener los nombres de las columnas en el conjunto de datos \"cars\". Muestra las columnas \"speed\" y \"dist\".\n",
        "names(cars)\n",
        "## [1] \"speed\" \"dist\"\n",
        "\n",
        "# Mostrar las primeras 6 filas del conjunto de datos \"cars\" utilizando 'head()'.\n",
        "head(cars)"
      ],
      "metadata": {
        "colab": {
          "base_uri": "https://localhost:8080/",
          "height": 351
        },
        "id": "B8eSCigxJUSk",
        "outputId": "a781c3b1-6408-46fc-fe60-52414a146d1d"
      },
      "execution_count": null,
      "outputs": [
        {
          "output_type": "display_data",
          "data": {
            "text/html": [
              "'data.frame'"
            ],
            "text/markdown": "'data.frame'",
            "text/latex": "'data.frame'",
            "text/plain": [
              "[1] \"data.frame\""
            ]
          },
          "metadata": {}
        },
        {
          "output_type": "display_data",
          "data": {
            "text/html": [
              "50"
            ],
            "text/markdown": "50",
            "text/latex": "50",
            "text/plain": [
              "[1] 50"
            ]
          },
          "metadata": {}
        },
        {
          "output_type": "display_data",
          "data": {
            "text/html": [
              "2"
            ],
            "text/markdown": "2",
            "text/latex": "2",
            "text/plain": [
              "[1] 2"
            ]
          },
          "metadata": {}
        },
        {
          "output_type": "display_data",
          "data": {
            "text/html": [
              "<style>\n",
              ".list-inline {list-style: none; margin:0; padding: 0}\n",
              ".list-inline>li {display: inline-block}\n",
              ".list-inline>li:not(:last-child)::after {content: \"\\00b7\"; padding: 0 .5ex}\n",
              "</style>\n",
              "<ol class=list-inline><li>'speed'</li><li>'dist'</li></ol>\n"
            ],
            "text/markdown": "1. 'speed'\n2. 'dist'\n\n\n",
            "text/latex": "\\begin{enumerate*}\n\\item 'speed'\n\\item 'dist'\n\\end{enumerate*}\n",
            "text/plain": [
              "[1] \"speed\" \"dist\" "
            ]
          },
          "metadata": {}
        },
        {
          "output_type": "display_data",
          "data": {
            "text/html": [
              "<table class=\"dataframe\">\n",
              "<caption>A data.frame: 6 × 2</caption>\n",
              "<thead>\n",
              "\t<tr><th></th><th scope=col>speed</th><th scope=col>dist</th></tr>\n",
              "\t<tr><th></th><th scope=col>&lt;dbl&gt;</th><th scope=col>&lt;dbl&gt;</th></tr>\n",
              "</thead>\n",
              "<tbody>\n",
              "\t<tr><th scope=row>1</th><td>4</td><td> 2</td></tr>\n",
              "\t<tr><th scope=row>2</th><td>4</td><td>10</td></tr>\n",
              "\t<tr><th scope=row>3</th><td>7</td><td> 4</td></tr>\n",
              "\t<tr><th scope=row>4</th><td>7</td><td>22</td></tr>\n",
              "\t<tr><th scope=row>5</th><td>8</td><td>16</td></tr>\n",
              "\t<tr><th scope=row>6</th><td>9</td><td>10</td></tr>\n",
              "</tbody>\n",
              "</table>\n"
            ],
            "text/markdown": "\nA data.frame: 6 × 2\n\n| <!--/--> | speed &lt;dbl&gt; | dist &lt;dbl&gt; |\n|---|---|---|\n| 1 | 4 |  2 |\n| 2 | 4 | 10 |\n| 3 | 7 |  4 |\n| 4 | 7 | 22 |\n| 5 | 8 | 16 |\n| 6 | 9 | 10 |\n\n",
            "text/latex": "A data.frame: 6 × 2\n\\begin{tabular}{r|ll}\n  & speed & dist\\\\\n  & <dbl> & <dbl>\\\\\n\\hline\n\t1 & 4 &  2\\\\\n\t2 & 4 & 10\\\\\n\t3 & 7 &  4\\\\\n\t4 & 7 & 22\\\\\n\t5 & 8 & 16\\\\\n\t6 & 9 & 10\\\\\n\\end{tabular}\n",
            "text/plain": [
              "  speed dist\n",
              "1 4      2  \n",
              "2 4     10  \n",
              "3 7      4  \n",
              "4 7     22  \n",
              "5 8     16  \n",
              "6 9     10  "
            ]
          },
          "metadata": {}
        }
      ]
    },
    {
      "cell_type": "markdown",
      "source": [
        "## Graficar"
      ],
      "metadata": {
        "id": "fm7HXsQYJ2vn"
      }
    },
    {
      "cell_type": "code",
      "source": [
        "# Crear un gráfico de dispersión (scatter plot) utilizando los datos de velocidad (speed) en el eje x y distancia (dist) en el eje y del conjunto de datos \"cars\".\n",
        "plot(x = cars$speed, y = cars$dist)"
      ],
      "metadata": {
        "colab": {
          "base_uri": "https://localhost:8080/",
          "height": 437
        },
        "id": "WF2cSiidJ23M",
        "outputId": "3a3ff19b-f1d0-4cd3-919f-fa90b7be8385"
      },
      "execution_count": null,
      "outputs": [
        {
          "output_type": "display_data",
          "data": {
            "text/plain": [
              "plot without title"
            ],
            "image/png": "[encoded data removed]"
          },
          "metadata": {
            "image/png": {
              "width": 420,
              "height": 420
            }
          }
        }
      ]
    },
    {
      "cell_type": "code",
      "source": [
        "# Crear un gráfico de dispersión con 'weight' en función de 'feed' utilizando los datos del conjunto de datos 'chickwts'.\n",
        "plot(weight ~ feed, data = chickwts)"
      ],
      "metadata": {
        "colab": {
          "base_uri": "https://localhost:8080/",
          "height": 437
        },
        "id": "3uJAB5GXKLXH",
        "outputId": "9bc8c82d-7db0-4592-a8d8-f2700cafe3ec"
      },
      "execution_count": null,
      "outputs": [
        {
          "output_type": "display_data",
          "data": {
            "text/plain": [
              "plot without title"
            ],
            "image/png": "[encoded data removed]"
          },
          "metadata": {
            "image/png": {
              "width": 420,
              "height": 420
            }
          }
        }
      ]
    }
  ]
}
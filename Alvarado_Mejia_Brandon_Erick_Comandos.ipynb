{
  "nbformat": 4,
  "nbformat_minor": 0,
  "metadata": {
    "colab": {
      "provenance": [],
      "collapsed_sections": [
        "3d1bB287urr8",
        "myyrv72Sut5E",
        "WbQNFMsAuuKx",
        "kgeKHyNwuuZ9",
        "9BTDThMMuuo8",
        "UAZ26oPQuu4D",
        "S9xKWhH-uvIL",
        "Xg35b-5quyBQ",
        "NYsw_K5iuy3c",
        "qxXuUpg6uzFY",
        "Ns5l7RxrBpSX",
        "SjNQPqy8BpuN",
        "GOV8UPBVBp9W",
        "VLYHnTBQBqKE",
        "YoRci8QiEGTI",
        "TQWcfkbgEGh5",
        "AIERgBdNEGvz",
        "lq6_m41vEG8a",
        "7wsLtOkkEHgx",
        "958BLoC-EHsO"
      ],
      "authorship_tag": "ABX9TyNM1p7b7fS/xFFc8t9yOCPQ",
      "include_colab_link": true
    },
    "kernelspec": {
      "name": "python3",
      "display_name": "Python 3"
    },
    "language_info": {
      "name": "python"
    }
  },
  "cells": [
    {
      "cell_type": "markdown",
      "metadata": {
        "id": "view-in-github",
        "colab_type": "text"
      },
      "source": [
        "<a href=\"https://colab.research.google.com/github/Brandroiid/Computo-en-la-nube/blob/main/Alvarado_Mejia_Brandon_Erick_Comandos.ipynb\" target=\"_parent\"><img src=\"https://colab.research.google.com/assets/colab-badge.svg\" alt=\"Open In Colab\"/></a>"
      ]
    },
    {
      "cell_type": "markdown",
      "source": [
        "# Alumno y No. de Control: Brandon Erick Alvarado Mejia No.: 2021690025\n",
        "# Docente: Jessica Sarahí Méndez Rincón\n",
        "# Materia: Cómputo en la Nube\n",
        "# Carrera: Ingeniería en Inteligencia Artificial\n",
        "# Grupo: 07-IIA-01\n",
        "# Lugar y fecha de entrega: San Buenaventura, Coahuila a 12 de Septiembre del 2023."
      ],
      "metadata": {
        "id": "pERd4jb0bjO-"
      }
    },
    {
      "cell_type": "markdown",
      "source": [
        "### ***1.2***\n"
      ],
      "metadata": {
        "id": "J6CrZTFzMxOe"
      }
    },
    {
      "cell_type": "markdown",
      "source": [
        "### **Objetos y clases**"
      ],
      "metadata": {
        "id": "3d1bB287urr8"
      }
    },
    {
      "cell_type": "code",
      "execution_count": 36,
      "metadata": {
        "colab": {
          "base_uri": "https://localhost:8080/"
        },
        "id": "GMRgMgFhup32",
        "outputId": "8ac63b27-dafc-444a-9c20-36eead5ac580"
      },
      "outputs": [
        {
          "output_type": "stream",
          "name": "stdout",
          "text": [
            "Roja\n",
            "Fibra de carbono\n",
            "Azul\n",
            "Acero\n",
            "¡Frenando!\n"
          ]
        }
      ],
      "source": [
        "# bike.py\n",
        "# Definamos la clase Bike (Bicicleta)\n",
        "class Bike:\n",
        "\n",
        "  def __init__(self, color, material_del_marco):\n",
        "    self.color = color\n",
        "    self.material_del_marco = material_del_marco\n",
        "\n",
        "  def frenar(self):\n",
        "    print(\"¡Frenando!\")\n",
        "\n",
        "# Creemos un par de instancias\n",
        "bici_roja = Bike('Roja', 'Fibra de carbono')\n",
        "bici_azul = Bike('Azul', 'Acero')\n",
        "\n",
        "# Inspeccionemos los objetos que tenemos, instancias de la clase Bike (Bicicleta).\n",
        "print(bici_roja.color) # imprime: Roja\n",
        "print(bici_roja.material_del_marco) # imprime: Fibra de carbono\n",
        "print(bici_azul.color) # imprime: Azul\n",
        "print(bici_azul.material_del_marco) # imprime: Acero\n",
        "\n",
        "# ¡Frenemos!\n",
        "bici_roja.frenar() # imprime: ¡Frenando!\n"
      ]
    },
    {
      "cell_type": "markdown",
      "source": [
        "### **Booleanos**"
      ],
      "metadata": {
        "id": "myyrv72Sut5E"
      }
    },
    {
      "cell_type": "code",
      "source": [
        "# Convertir True a entero\n",
        "resultado1 = int(True) # True se comporta como 1\n",
        "print(resultado1)  # 1\n",
        "\n",
        "# Convertir False a entero\n",
        "resultado2 = int(False) # False se comporta como 0\n",
        "print(resultado2)  # 0\n",
        "\n",
        "# Comprobar si 1 se evalúa como True en un contexto booleano\n",
        "resultado3 = bool(1) # 1 se evalúa como True en un contexto booleano\n",
        "print(resultado3)  # True\n",
        "\n",
        "# Comprobar si cualquier número distinto de cero se evalúa como True\n",
        "resultado4 = bool(-42) # y lo hace cualquier número distinto de cero\n",
        "print(resultado4)  # True\n",
        "\n",
        "# Comprobar si 0 se evalúa como False\n",
        "resultado5 = bool(0) # 0 se evalúa como False\n",
        "print(resultado5)  # False\n",
        "\n",
        "# Vistazo rápido a los operadores (and, or, not)\n",
        "resultado6 = not True\n",
        "print(resultado6)  # False\n",
        "\n",
        "resultado7 = not False\n",
        "print(resultado7)  # True\n",
        "\n",
        "resultado8 = True and True\n",
        "print(resultado8)  # True\n",
        "\n",
        "resultado9 = False or True\n",
        "print(resultado9)  # True\n",
        "\n",
        "resultado10 = 1 + True\n",
        "print(resultado10)  # 2\n",
        "\n",
        "resultado11 = False + 42\n",
        "print(resultado11)  # 42\n",
        "\n",
        "resultado12 = 7 - True\n",
        "print(resultado12)  # 6"
      ],
      "metadata": {
        "colab": {
          "base_uri": "https://localhost:8080/"
        },
        "id": "aK5BWA_6uuBP",
        "outputId": "93629b5a-966c-4967-a3aa-8ebeac7c7d4b"
      },
      "execution_count": 5,
      "outputs": [
        {
          "output_type": "stream",
          "name": "stdout",
          "text": [
            "1\n",
            "0\n",
            "True\n",
            "True\n",
            "False\n",
            "False\n",
            "True\n",
            "True\n",
            "True\n",
            "2\n",
            "42\n",
            "6\n"
          ]
        }
      ]
    },
    {
      "cell_type": "markdown",
      "source": [
        "### **Enteros**"
      ],
      "metadata": {
        "id": "WbQNFMsAuuKx"
      }
    },
    {
      "cell_type": "code",
      "source": [
        "# Definir variables\n",
        "a = 14\n",
        "b = 3\n",
        "\n",
        "# Suma\n",
        "suma = a + b # suma\n",
        "print(suma)  # 17\n",
        "\n",
        "# Resta\n",
        "resta = a - b # resta\n",
        "print(resta)  # 11\n",
        "\n",
        "# Multiplicación\n",
        "multiplicacion = a * b # multiplicación\n",
        "print(multiplicacion)  # 42\n",
        "\n",
        "# División real (con decimales)\n",
        "division_real = a / b # división real\n",
        "print(division_real)  # 4.666666666666667\n",
        "\n",
        "# División entera (sin decimales)\n",
        "division_entera = a // b # división entera\n",
        "print(division_entera)  # 4\n",
        "\n",
        "# Operación módulo (residuo de la división)\n",
        "modulo = a % b # operación módulo (residuo de la división)\n",
        "print(modulo)  # 2\n",
        "\n",
        "# Operación de potencia\n",
        "potencia = a ** b # operación de potencia\n",
        "print(potencia)  # 2744\n",
        "\n",
        "# División real\n",
        "division_real_2 = 7 / 4 # división real\n",
        "print(division_real_2)  # 1.75\n",
        "\n",
        "# División entera (truncamiento, devuelve 1)\n",
        "division_entera_2 = 7 // 4 # división entera, truncamiento devuelve 1\n",
        "print(division_entera_2)  # 1\n",
        "\n",
        "# División real (resultado opuesto al anterior)\n",
        "division_real_negativa = -7 / 4 # división real nuevamente, resultado opuesto al anterior\n",
        "print(division_real_negativa)  # -1.75\n",
        "\n",
        "# División entera (truncamiento, devuelve -2)\n",
        "division_entera_negativa = -7 // 4 # división entera, truncamiento devuelve -2\n",
        "print(division_entera_negativa)  # -2\n"
      ],
      "metadata": {
        "colab": {
          "base_uri": "https://localhost:8080/"
        },
        "id": "lPFo4FD-uuSZ",
        "outputId": "afb4d39d-4a21-49a8-d4c8-e68c046ea69d"
      },
      "execution_count": 6,
      "outputs": [
        {
          "output_type": "stream",
          "name": "stdout",
          "text": [
            "17\n",
            "11\n",
            "42\n",
            "4.666666666666667\n",
            "4\n",
            "2\n",
            "2744\n",
            "1.75\n",
            "1\n",
            "-1.75\n",
            "-2\n"
          ]
        }
      ]
    },
    {
      "cell_type": "markdown",
      "source": [
        "### **Números completos**"
      ],
      "metadata": {
        "id": "kgeKHyNwuuZ9"
      }
    },
    {
      "cell_type": "code",
      "source": [
        "# Definir un número complejo\n",
        "c = 3.14 + 2.73j\n",
        "# También se puede definir de esta manera:\n",
        "# c = complex(3.14, 2.73) # igual que arriba\n",
        "\n",
        "# Parte real\n",
        "parte_real = c.real # parte real\n",
        "print(parte_real)  # 3.14\n",
        "\n",
        "# Parte imaginaria\n",
        "parte_imaginaria = c.imag # parte imaginaria\n",
        "print(parte_imaginaria)  # 2.73\n",
        "\n",
        "# Conjugado (el conjugado de A + Bj es A - Bj)\n",
        "conjugado = c.conjugate() # conjugado de A + Bj es A - Bj\n",
        "print(conjugado)  # (3.14-2.73j)\n",
        "\n",
        "# Multiplicación permitida\n",
        "multiplicacion = c * 2 # se permite la multiplicación\n",
        "print(multiplicacion)  # (6.28+5.46j)\n",
        "\n",
        "# Operación de potencia también es posible\n",
        "potencia = c ** 2 # operación de potencia\n",
        "print(potencia)  # (2.4067000000000007+17.1444j)\n",
        "\n",
        "# Definir otro número complejo\n",
        "d = 1 + 1j # también se permite la adición y sustracción\n",
        "\n",
        "# Resta entre números complejos\n",
        "resta = c - d\n",
        "print(resta)  # (2.14+1.73j)\n"
      ],
      "metadata": {
        "colab": {
          "base_uri": "https://localhost:8080/"
        },
        "id": "0LQL3j8huuiR",
        "outputId": "d5b2ad78-e4fb-4e2a-b2a6-73db0ad30655"
      },
      "execution_count": 37,
      "outputs": [
        {
          "output_type": "stream",
          "name": "stdout",
          "text": [
            "3.14\n",
            "2.73\n",
            "(3.14-2.73j)\n",
            "(6.28+5.46j)\n",
            "(2.4067000000000007+17.1444j)\n",
            "(2.14+1.73j)\n"
          ]
        }
      ]
    },
    {
      "cell_type": "markdown",
      "source": [
        "### **Formato a strings**"
      ],
      "metadata": {
        "id": "9BTDThMMuuo8"
      }
    },
    {
      "cell_type": "code",
      "source": [
        "# Usando el antiguo método de formato con %s\n",
        "saludo_antiguo = '¡Hola %s!'\n",
        "print(saludo_antiguo % 'Fabrizio')  # '¡Hola Fabrizio!'\n",
        "\n",
        "# Usando formato posicional con llaves {}\n",
        "saludo_posicional = '¡Hola {}!'\n",
        "print(saludo_posicional.format('Fabrizio'))  # '¡Hola Fabrizio!'\n",
        "\n",
        "# Usando formato posicional con múltiples llaves {}\n",
        "saludo_posicional_multiple = '¡Hola {} {}!'\n",
        "print(saludo_posicional_multiple.format('Fabrizio', 'Romano'))  # '¡Hola Fabrizio Romano!'\n",
        "\n",
        "# Usando formato posicional con índices\n",
        "saludo_posicional_indices = 'Esto es {0}! {1} ama {0}!'\n",
        "print(saludo_posicional_indices.format('Python', 'Heinrich'))  # 'Esto es Python! Heinrich ama Python!'\n",
        "print(saludo_posicional_indices.format('Café', 'Fab'))  # 'Esto es Café! Fab ama Café!'\n",
        "\n",
        "# Usando formato con palabras clave\n",
        "saludo_palabra_clave = 'Hola, mi nombre es {name} {last_name}'\n",
        "print(saludo_palabra_clave.format(name='Fabrizio', last_name='Romano'))  # 'Hola, mi nombre es Fabrizio Romano'\n"
      ],
      "metadata": {
        "colab": {
          "base_uri": "https://localhost:8080/"
        },
        "id": "5M1tezSRuuxi",
        "outputId": "457abe58-4516-4687-c599-fdef798ec0d5"
      },
      "execution_count": 7,
      "outputs": [
        {
          "output_type": "stream",
          "name": "stdout",
          "text": [
            "¡Hola Fabrizio!\n",
            "¡Hola Fabrizio!\n",
            "¡Hola Fabrizio Romano!\n",
            "Esto es Python! Heinrich ama Python!\n",
            "Esto es Café! Fab ama Café!\n",
            "Hola, mi nombre es Fabrizio Romano\n"
          ]
        }
      ]
    },
    {
      "cell_type": "markdown",
      "source": [
        "### **Listas**"
      ],
      "metadata": {
        "id": "UAZ26oPQuu4D"
      }
    },
    {
      "cell_type": "code",
      "source": [
        "# Crear una lista\n",
        "a = [1, 2, 1, 3, 13, 5, 7]\n",
        "\n",
        "# Encontrar la posición de `13` en la lista (índice basado en 0)\n",
        "posicion_de_13 = a.index(13)\n",
        "print(posicion_de_13)  # 4\n",
        "\n",
        "# Insertar `17` en la posición 0\n",
        "a.insert(0, 17)\n",
        "print(a)  # [17, 1, 2, 1, 3, 13, 5, 7]\n",
        "\n",
        "# Sacar (eliminar y devolver) el último elemento\n",
        "elemento_eliminado = a.pop()\n",
        "print(elemento_eliminado)  # 7\n",
        "\n",
        "# Sacar (eliminar y devolver) el elemento en la posición 3\n",
        "elemento_eliminado_3 = a.pop(3)\n",
        "print(elemento_eliminado_3)  # 1\n",
        "\n",
        "# Quitar `17` de la lista\n",
        "a.remove(17)\n",
        "print(a)  # [1, 2, 3, 13, 5]\n",
        "\n",
        "# Revertir el orden de los elementos en la lista\n",
        "a.reverse()\n",
        "print(a)  # [5, 13, 3, 2, 1]\n",
        "\n",
        "# Ordenar la lista\n",
        "a.sort()\n",
        "print(a)  # [1, 2, 3, 5, 13]\n",
        "\n",
        "# Eliminar todos los elementos de la lista\n",
        "a.clear()\n",
        "print(a)  # []\n",
        "\n",
        "# Crear una lista a partir de una cadena de caracteres\n",
        "a = list('hello')\n",
        "print(a)  # ['h', 'e', 'l', 'l', 'o']\n",
        "\n",
        "# Agregar 100 a la lista (tipos heterogéneos)\n",
        "a.append(100)\n",
        "print(a)  # ['h', 'e', 'l', 'l', 'o', 100]\n",
        "\n",
        "# Extender la lista con una tupla\n",
        "a.extend((1, 2, 3))\n",
        "print(a)  # ['h', 'e', 'l', 'l', 'o', 100, 1, 2, 3]\n",
        "\n",
        "# Extender la lista con una cadena de caracteres\n",
        "a.extend('...')\n",
        "print(a)  # ['h', 'e', 'l', 'l', 'o', 100, 1, 2, 3, '.', '.', '.']\n",
        "\n",
        "# Crear una lista\n",
        "a = [1, 2, 1, 3, 13, 5, 7]\n",
        "\n",
        "# Encontrar el valor mínimo en la lista\n",
        "minimo_valor = min(a)\n",
        "print(minimo_valor)  # 1\n",
        "\n",
        "# Encontrar el valor máximo en la lista\n",
        "maximo_valor = max(a)\n",
        "print(maximo_valor)  # 13\n",
        "\n",
        "# Calcular la suma de todos los valores en la lista\n",
        "suma_valores = sum(a)\n",
        "print(suma_valores)  # 32\n",
        "\n",
        "# Importar la función `prod` de la biblioteca `math`\n",
        "from math import prod\n",
        "\n",
        "# Calcular el producto de todos los valores en la lista\n",
        "producto_valores = prod(a)\n",
        "print(producto_valores)  # 5460\n",
        "\n",
        "# Obtener la longitud (número de elementos) de la lista\n",
        "longitud_lista = len(a)\n",
        "print(longitud_lista)  # 7\n",
        "\n",
        "# Crear otra lista\n",
        "b = [6, 7, 8]\n",
        "\n",
        "# Concatenar las listas usando el operador `+`\n",
        "concatenacion_listas = a + b\n",
        "print(concatenacion_listas)  # [1, 2, 3, 5, 13, 6, 7, 8]\n",
        "\n",
        "# Repetir la lista usando el operador `*`\n",
        "repeticion_lista = a * 2\n",
        "print(repeticion_lista)  # [1, 2, 3, 5, 13, 1, 2, 3, 5, 13]\n"
      ],
      "metadata": {
        "colab": {
          "base_uri": "https://localhost:8080/"
        },
        "id": "mZDlYLIduvAT",
        "outputId": "2a9abc66-6fb0-452c-eaed-7a874b93b6fb"
      },
      "execution_count": 13,
      "outputs": [
        {
          "output_type": "stream",
          "name": "stdout",
          "text": [
            "4\n",
            "[17, 1, 2, 1, 3, 13, 5, 7]\n",
            "7\n",
            "1\n",
            "[1, 2, 3, 13, 5]\n",
            "[5, 13, 3, 2, 1]\n",
            "[1, 2, 3, 5, 13]\n",
            "[]\n",
            "['h', 'e', 'l', 'l', 'o']\n",
            "['h', 'e', 'l', 'l', 'o', 100]\n",
            "['h', 'e', 'l', 'l', 'o', 100, 1, 2, 3]\n",
            "['h', 'e', 'l', 'l', 'o', 100, 1, 2, 3, '.', '.', '.']\n",
            "1\n",
            "13\n",
            "32\n",
            "2730\n",
            "7\n",
            "[1, 2, 1, 3, 13, 5, 7, 6, 7, 8]\n",
            "[1, 2, 1, 3, 13, 5, 7, 1, 2, 1, 3, 13, 5, 7]\n"
          ]
        }
      ]
    },
    {
      "cell_type": "markdown",
      "source": [
        "### **Diccionarios**"
      ],
      "metadata": {
        "id": "S9xKWhH-uvIL"
      }
    },
    {
      "cell_type": "code",
      "source": [
        "# Crear un diccionario 'a' utilizando asignación de clave y valor\n",
        "a = dict(A=1, Z=-1)\n",
        "\n",
        "# Crear un diccionario 'b' utilizando una declaración de diccionario\n",
        "b = {'A': 1, 'Z': -1}\n",
        "\n",
        "# Crear un diccionario 'c' utilizando la función 'zip' para combinar listas\n",
        "c = dict(zip(['A', 'Z'], [1, -1]))\n",
        "\n",
        "# Crear un diccionario 'd' utilizando una lista de tuplas\n",
        "d = dict([('A', 1), ('Z', -1)])\n",
        "\n",
        "# Crear un diccionario 'e' utilizando otro diccionario\n",
        "e = dict({'Z': -1, 'A': 1})\n",
        "\n",
        "# ¿Son todos iguales?\n",
        "son_iguales = a == b == c == d == e\n",
        "print(son_iguales)  # True  # Son todos iguales\n"
      ],
      "metadata": {
        "colab": {
          "base_uri": "https://localhost:8080/"
        },
        "id": "fYSDY3cIuvRV",
        "outputId": "e9e8bc91-53e7-408e-d5c8-1e1d9f3a5e2b"
      },
      "execution_count": 14,
      "outputs": [
        {
          "output_type": "stream",
          "name": "stdout",
          "text": [
            "True\n"
          ]
        }
      ]
    },
    {
      "cell_type": "markdown",
      "source": [
        "### **Iterando sobre multiples secuencias**"
      ],
      "metadata": {
        "id": "Xg35b-5quyBQ"
      }
    },
    {
      "cell_type": "code",
      "source": [
        "# multiple.sequences.py\n",
        "\n",
        "# Definimos dos listas: 'people' (personas) y 'ages' (edades)\n",
        "people = ['Nick', 'Rick', 'Roger', 'Syd']\n",
        "ages = [23, 24, 23, 21]\n",
        "\n",
        "# Iteramos a través de un rango que tiene la misma longitud que la lista 'people'\n",
        "# La función 'len(people)' nos da la cantidad de elementos en la lista 'people'\n",
        "for position in range(len(people)):\n",
        "    # En cada iteración, obtenemos el nombre y la edad correspondientes\n",
        "    person = people[position]  # Obtenemos el nombre en la posición actual\n",
        "    age = ages[position]  # Obtenemos la edad en la posición actual\n",
        "\n",
        "    # Imprimimos el nombre y la edad de la persona en esta iteración\n",
        "    print(person, age)\n"
      ],
      "metadata": {
        "colab": {
          "base_uri": "https://localhost:8080/"
        },
        "id": "RJ_asKGNuyeB",
        "outputId": "60a06df8-d7cb-4f4a-8541-9100634460cf"
      },
      "execution_count": 38,
      "outputs": [
        {
          "output_type": "stream",
          "name": "stdout",
          "text": [
            "Nick 23\n",
            "Rick 24\n",
            "Roger 23\n",
            "Syd 21\n"
          ]
        }
      ]
    },
    {
      "cell_type": "markdown",
      "source": [
        "### **Break y continue**"
      ],
      "metadata": {
        "id": "NYsw_K5iuy3c"
      }
    },
    {
      "cell_type": "code",
      "source": [
        "# discount.py\n",
        "\n",
        "# Importamos la biblioteca 'date' y 'timedelta' de 'datetime'\n",
        "from datetime import date, timedelta\n",
        "\n",
        "# Obtenemos la fecha actual\n",
        "today = date.today()\n",
        "\n",
        "# Calculamos la fecha de mañana, sumándole un día a la fecha actual\n",
        "tomorrow = today + timedelta(days=1)  # hoy + 1 día es mañana\n",
        "\n",
        "# Creamos una lista de productos con información, incluyendo SKU (código de producto),\n",
        "# fecha de vencimiento y precio.\n",
        "products = [\n",
        "    {'sku': '1', 'expiration_date': today, 'price': 100.0},\n",
        "    {'sku': '2', 'expiration_date': tomorrow, 'price': 50},\n",
        "    {'sku': '3', 'expiration_date': today, 'price': 20},\n",
        "]\n",
        "\n",
        "# Iteramos a través de la lista de productos\n",
        "for product in products:\n",
        "    # Verificamos si la fecha de vencimiento del producto no es la fecha actual\n",
        "    if product['expiration_date'] != today:\n",
        "        # Si no es la fecha actual, continuamos con la siguiente iteración\n",
        "        continue\n",
        "\n",
        "    # Si llegamos aquí, significa que el producto ha expirado hoy, por lo que aplicamos un descuento del 20%\n",
        "    product['price'] *= 0.8  # equivalente a aplicar un descuento del 20%\n",
        "\n",
        "    # Imprimimos un mensaje que muestra el SKU del producto y su nuevo precio después del descuento\n",
        "    print(\n",
        "        'El precio para el SKU', product['sku'],\n",
        "        'es ahora', product['price'])\n"
      ],
      "metadata": {
        "colab": {
          "base_uri": "https://localhost:8080/"
        },
        "id": "LUUhrT4ruy-o",
        "outputId": "bdae9e4b-b875-4a94-efee-e38be5d2da56"
      },
      "execution_count": 17,
      "outputs": [
        {
          "output_type": "stream",
          "name": "stdout",
          "text": [
            "El precio para el SKU 1 es ahora 80.0\n",
            "El precio para el SKU 3 es ahora 16.0\n"
          ]
        }
      ]
    },
    {
      "cell_type": "markdown",
      "source": [
        "### **Importar objetos**"
      ],
      "metadata": {
        "id": "qxXuUpg6uzFY"
      }
    },
    {
      "cell_type": "code",
      "source": [
        "# imports.py\n",
        "# Dos importaciones en la misma línea\n",
        "from datetime import datetime, timezone\n",
        "# Importación única\n",
        "from unittest.mock import patch\n",
        "# Biblioteca de terceros\n",
        "import pytest"
      ],
      "metadata": {
        "id": "Vf85kuv9uzOY"
      },
      "execution_count": 39,
      "outputs": []
    },
    {
      "cell_type": "markdown",
      "source": [
        "### ***1.3***"
      ],
      "metadata": {
        "id": "WPf2VwiBDF1j"
      }
    },
    {
      "cell_type": "markdown",
      "source": [
        "### **Abrir archivos**"
      ],
      "metadata": {
        "id": "Ns5l7RxrBpSX"
      }
    },
    {
      "cell_type": "code",
      "source": [
        "# files/open_try.py\n",
        "# Abrir el archivo 'fear.txt' en modo lectura de texto ('r' para leer, 't' para texto)\n",
        "fh = open('fear.txt', 'rt')\n",
        "\n",
        "# Iterar a través de las líneas del archivo y eliminar los espacios en blanco antes de imprimir\n",
        "for line in fh.readlines():\n",
        "    print(line.strip()) # eliminar espacios en blanco y imprimir\n",
        "\n",
        "# Cerrar el archivo\n",
        "fh.close()\n"
      ],
      "metadata": {
        "colab": {
          "base_uri": "https://localhost:8080/"
        },
        "id": "NSrSjh2hBpnP",
        "outputId": "2f041766-032c-447b-9a2c-048ab3d65a34"
      },
      "execution_count": 21,
      "outputs": [
        {
          "output_type": "stream",
          "name": "stdout",
          "text": [
            "hola como estan\n"
          ]
        }
      ]
    },
    {
      "cell_type": "markdown",
      "source": [
        "### **Leer y escribir en un archivo**"
      ],
      "metadata": {
        "id": "SjNQPqy8BpuN"
      }
    },
    {
      "cell_type": "code",
      "source": [
        "# files/print_file.py\n",
        "# Abrir el archivo 'print_example.txt' en modo escritura ('w')\n",
        "with open('print_example.txt', 'w') as fw:\n",
        "    # Imprimir 'Hey I am printing into a file!!!' en el archivo 'fw'\n",
        "    print('¡Hola, estoy escribiendo en un archivo!!!', file=fw)\n"
      ],
      "metadata": {
        "id": "QgWXDGRtBp2G"
      },
      "execution_count": 22,
      "outputs": []
    },
    {
      "cell_type": "code",
      "source": [
        "# files/read_write.py\n",
        "# Abrir el archivo 'fear.txt' en modo lectura\n",
        "with open('fear.txt') as f:\n",
        "    # Leer las líneas del archivo y quitar los espacios en blanco de la derecha\n",
        "    lines = [line.rstrip() for line in f]\n",
        "\n",
        "# Abrir el archivo 'fear_copy.txt' en modo escritura\n",
        "with open('fear_copy.txt', 'w') as fw:\n",
        "    # Escribir las líneas en 'fw' separadas por saltos de línea\n",
        "    fw.write('\\n'.join(lines))\n",
        ""
      ],
      "metadata": {
        "id": "AlEWAbIOCt2x"
      },
      "execution_count": 23,
      "outputs": []
    },
    {
      "cell_type": "markdown",
      "source": [
        "### **Revisando existencia de un archivo y directorio**"
      ],
      "metadata": {
        "id": "GOV8UPBVBp9W"
      }
    },
    {
      "cell_type": "code",
      "source": [
        "# files/existence.py\n",
        "# Importar la clase Path de la biblioteca pathlib\n",
        "from pathlib import Path\n",
        "\n",
        "# Crear un objeto Path para el archivo 'fear.txt'\n",
        "p = Path('fear.txt')\n",
        "\n",
        "# Obtener la ruta absoluta del directorio que contiene 'fear.txt'\n",
        "ruta = p.parent.absolute()\n",
        "\n",
        "# Verificar si 'fear.txt' es un archivo (True si existe)\n",
        "print(p.is_file())  # True\n",
        "\n",
        "# Imprimir la ruta absoluta del directorio\n",
        "print(ruta)\n",
        "\n",
        "# Verificar si la ruta es un directorio (True si es un directorio válido)\n",
        "print(ruta.is_dir())  # True\n",
        "\n",
        "# Crear un objeto Path para la ruta completa '/content'\n",
        "q = Path('/content/ola')\n",
        "\n",
        "# Verificar si 'q' es un directorio (True si es un directorio válido)\n",
        "print(q.is_dir())  # True\n"
      ],
      "metadata": {
        "colab": {
          "base_uri": "https://localhost:8080/"
        },
        "id": "4c3cr7APBqEV",
        "outputId": "245b9fb6-e8d2-44a9-9dde-f0774c1cc469"
      },
      "execution_count": 26,
      "outputs": [
        {
          "output_type": "stream",
          "name": "stdout",
          "text": [
            "True\n",
            "/content\n",
            "True\n",
            "False\n"
          ]
        }
      ]
    },
    {
      "cell_type": "markdown",
      "source": [
        "### **Manipular archivos y directorios**"
      ],
      "metadata": {
        "id": "VLYHnTBQBqKE"
      }
    },
    {
      "cell_type": "code",
      "source": [
        "# files/manipulation.py\n",
        "from collections import Counter\n",
        "from string import ascii_letters\n",
        "\n",
        "# Definir un conjunto de caracteres válidos que incluye letras ASCII y espacio\n",
        "chars = ascii_letters + ' '\n",
        "\n",
        "# Función para eliminar caracteres no válidos de una cadena\n",
        "def sanitize(s, chars):\n",
        "    return ''.join(c for c in s if c in chars)\n",
        "\n",
        "# Función para invertir una cadena\n",
        "def reverse(s):\n",
        "    return s[::-1]\n",
        "\n",
        "# Abrir el archivo 'fear.txt' en modo lectura\n",
        "with open('fear.txt') as stream:\n",
        "    # Leer las líneas del archivo y quitar los espacios en blanco de la derecha\n",
        "    lines = [line.rstrip() for line in stream]\n",
        "\n",
        "    # Escribir la versión invertida del archivo en 'raef.txt'\n",
        "    with open('raef.txt', 'w') as stream:\n",
        "        stream.write('\\n'.join(reverse(line) for line in lines))\n",
        "\n",
        "    # Calcular estadísticas en el archivo original\n",
        "    lines = [sanitize(line, chars) for line in lines]\n",
        "    whole = ' '.join(lines)\n",
        "\n",
        "    # Realizar comparaciones en la versión en minúsculas de 'whole'\n",
        "    cnt = Counter(whole.lower().split())\n",
        "\n",
        "    # Imprimir las N palabras más comunes\n",
        "    print(cnt.most_common(3))\n"
      ],
      "metadata": {
        "colab": {
          "base_uri": "https://localhost:8080/"
        },
        "id": "DtxW06HcBqQl",
        "outputId": "9a2cdd86-a55a-431e-9b34-68ed6fd3b322"
      },
      "execution_count": 27,
      "outputs": [
        {
          "output_type": "stream",
          "name": "stdout",
          "text": [
            "[('hola', 1), ('como', 1), ('estan', 1)]\n"
          ]
        }
      ]
    },
    {
      "cell_type": "markdown",
      "source": [
        "### **Archivos y directorios temporales**"
      ],
      "metadata": {
        "id": "YoRci8QiEGTI"
      }
    },
    {
      "cell_type": "code",
      "source": [
        "# files/tmp.py\n",
        "# Importar las clases NamedTemporaryFile y TemporaryDirectory de la biblioteca tempfile\n",
        "from tempfile import NamedTemporaryFile, TemporaryDirectory\n",
        "\n",
        "# Crear un directorio temporal y asignarlo a 'td' (dir='.' indica el directorio actual)\n",
        "with TemporaryDirectory(dir='.') as td:\n",
        "    print('Directorio temporal:', td)\n",
        "\n",
        "    # Crear un archivo temporal con nombre y asignar el nombre a 't'\n",
        "    with NamedTemporaryFile(dir=td) as t:\n",
        "        name = t.name\n",
        "        print(name)\n"
      ],
      "metadata": {
        "colab": {
          "base_uri": "https://localhost:8080/"
        },
        "id": "-YtwF0-BEGap",
        "outputId": "a9e82396-2f80-4c2f-8def-1aa0e33017bf"
      },
      "execution_count": 28,
      "outputs": [
        {
          "output_type": "stream",
          "name": "stdout",
          "text": [
            "Directorio temporal: ./tmp5vm478xh\n",
            "/content/tmp5vm478xh/tmpbvp14j34\n"
          ]
        }
      ]
    },
    {
      "cell_type": "markdown",
      "source": [
        "### **Contenido de un directorio**"
      ],
      "metadata": {
        "id": "TQWcfkbgEGh5"
      }
    },
    {
      "cell_type": "code",
      "source": [
        "# files/listing.py\n",
        "# Importar la clase Path de la biblioteca pathlib\n",
        "from pathlib import Path\n",
        "\n",
        "# Crear un objeto Path que representa el directorio actual ('.')\n",
        "p = Path('.')\n",
        "\n",
        "# Iterar a través de las entradas (archivos y carpetas) en el directorio actual\n",
        "for entry in p.glob('*'):\n",
        "    # Imprimir 'File:' si es un archivo, o 'Folder:' si es una carpeta, junto con el nombre de la entrada\n",
        "    print('Archivo:' if entry.is_file() else 'Carpeta:', entry)\n"
      ],
      "metadata": {
        "colab": {
          "base_uri": "https://localhost:8080/"
        },
        "id": "PO_vIMF0EGpB",
        "outputId": "df763294-382d-404e-f7c5-4a013ad79012"
      },
      "execution_count": 29,
      "outputs": [
        {
          "output_type": "stream",
          "name": "stdout",
          "text": [
            "Carpeta: .config\n",
            "Carpeta: .ipynb_checkpoints\n",
            "Archivo: print_example.txt\n",
            "Archivo: fear.txt\n",
            "Archivo: raef.txt\n",
            "Archivo: fear_copy.txt\n",
            "Carpeta: sample_data\n"
          ]
        }
      ]
    },
    {
      "cell_type": "markdown",
      "source": [
        "### **Compresión de archivos**"
      ],
      "metadata": {
        "id": "AIERgBdNEGvz"
      }
    },
    {
      "cell_type": "code",
      "source": [
        "# files/compression/zip.py\n",
        "# Importar la clase ZipFile de la biblioteca zipfile\n",
        "from zipfile import ZipFile\n",
        "\n",
        "# Crear un archivo ZIP llamado 'example.zip' en modo escritura ('w')\n",
        "with ZipFile('example.zip', 'w') as zp:\n",
        "    # Agregar archivos 'content1.txt', 'content2.txt' al archivo ZIP\n",
        "    zp.write('fear.txt')\n",
        "    zp.write('raef.txt')\n",
        "\n",
        "# Abrir el archivo ZIP 'example.zip' en modo lectura\n",
        "with ZipFile('example.zip') as zp:\n",
        "    # Extraer 'content1.txt' del archivo ZIP y guardarlo en la carpeta 'extract_zip'\n",
        "    zp.extract('raef.txt', 'extract_zip')\n"
      ],
      "metadata": {
        "id": "ufncNSQJEG2X"
      },
      "execution_count": 35,
      "outputs": []
    },
    {
      "cell_type": "markdown",
      "source": [
        "*texto en cursiva*"
      ],
      "metadata": {
        "id": "ivcjGvmZMu6l"
      }
    },
    {
      "cell_type": "markdown",
      "source": [
        "### **Usar JSON**"
      ],
      "metadata": {
        "id": "lq6_m41vEG8a"
      }
    },
    {
      "cell_type": "code",
      "source": [
        "# json_examples/json_basic.py\n",
        "import json\n",
        "\n",
        "# Crear un diccionario 'info' con información sobre Sherlock Holmes\n",
        "info = {\n",
        "    'nombre_completo': 'Sherlock Holmes',\n",
        "    'direccion': {\n",
        "        'calle': '221B Baker St',\n",
        "        'código_postal': 'NW1 6XE',\n",
        "        'ciudad': 'Londres',\n",
        "        'país': 'Reino Unido',\n",
        "    }\n",
        "}\n",
        "\n",
        "# Imprimir la representación JSON del diccionario 'info' con formato legible\n",
        "print(json.dumps(info, indent=2, sort_keys=True))\n"
      ],
      "metadata": {
        "colab": {
          "base_uri": "https://localhost:8080/"
        },
        "id": "4AKxQB1gEHC5",
        "outputId": "7d35f6f4-9aff-4cd4-9c83-a6d08a709536"
      },
      "execution_count": 31,
      "outputs": [
        {
          "output_type": "stream",
          "name": "stdout",
          "text": [
            "{\n",
            "  \"direccion\": {\n",
            "    \"calle\": \"221B Baker St\",\n",
            "    \"ciudad\": \"Londres\",\n",
            "    \"c\\u00f3digo_postal\": \"NW1 6XE\",\n",
            "    \"pa\\u00eds\": \"Reino Unido\"\n",
            "  },\n",
            "  \"nombre_completo\": \"Sherlock Holmes\"\n",
            "}\n"
          ]
        }
      ]
    },
    {
      "cell_type": "markdown",
      "source": [
        "### **Usar un flujo en memoria**"
      ],
      "metadata": {
        "id": "7wsLtOkkEHgx"
      }
    },
    {
      "cell_type": "code",
      "source": [
        "# io_examples/string_io.py\n",
        "# Importar la clase StringIO de la biblioteca io\n",
        "import io\n",
        "\n",
        "# Crear un flujo en memoria de tipo String (io.StringIO)\n",
        "stream = io.StringIO()\n",
        "\n",
        "# Escribir una cadena en el flujo\n",
        "stream.write('Aprendiendo programación en Python.\\n')\n",
        "\n",
        "# Imprimir '¡Conviértete en un ninja de Python!' en el flujo\n",
        "print('¡Conviértete en un ninja de Python!', file=stream)\n",
        "\n",
        "# Obtener el contenido del flujo en memoria\n",
        "contenido = stream.getvalue()\n",
        "\n",
        "# Imprimir el contenido\n",
        "print(contenido)\n"
      ],
      "metadata": {
        "colab": {
          "base_uri": "https://localhost:8080/"
        },
        "id": "ck2BFM46EHlP",
        "outputId": "991b1caa-a6ba-4083-a372-399c180185ad"
      },
      "execution_count": 33,
      "outputs": [
        {
          "output_type": "stream",
          "name": "stdout",
          "text": [
            "Aprendiendo programación en Python.\n",
            "¡Conviértete en un ninja de Python!\n",
            "\n"
          ]
        }
      ]
    },
    {
      "cell_type": "markdown",
      "source": [
        "### **Solicitudes HTTP**"
      ],
      "metadata": {
        "id": "958BLoC-EHsO"
      }
    },
    {
      "cell_type": "code",
      "source": [
        "# io_examples/reqs.py\n",
        "# Importar la biblioteca 'requests'\n",
        "import requests\n",
        "\n",
        "# Definir un diccionario 'urls' con varias URL de prueba\n",
        "urls = {\n",
        "    \"get\": \"https://httpbin.org/get?t=aprendiendo+programación+en+Python\",\n",
        "    \"headers\": \"https://httpbin.org/headers\",\n",
        "    \"ip\": \"https://httpbin.org/ip\",\n",
        "    \"user-agent\": \"https://httpbin.org/user-agent\",\n",
        "    \"UUID\": \"https://httpbin.org/uuid\",\n",
        "    \"JSON\": \"https://httpbin.org/json\",\n",
        "}\n",
        "\n",
        "# Función para obtener y mostrar el contenido de una URL\n",
        "def obtener_contenido(titulo, url):\n",
        "    respuesta = requests.get(url)\n",
        "    print(f\"Respuesta para {titulo}\")\n",
        "    print(respuesta.json())\n",
        "\n",
        "# Iterar a través de las URL en el diccionario 'urls' y obtener su contenido\n",
        "for titulo, url in urls.items():\n",
        "    obtener_contenido(titulo, url)\n",
        "\n",
        "# Imprimir una línea separadora\n",
        "print(\"-\" * 40)\n"
      ],
      "metadata": {
        "colab": {
          "base_uri": "https://localhost:8080/"
        },
        "id": "C7boY-nSEHxg",
        "outputId": "70222514-4169-4e79-be06-564855fffe45"
      },
      "execution_count": 34,
      "outputs": [
        {
          "output_type": "stream",
          "name": "stdout",
          "text": [
            "Respuesta para get\n",
            "{'args': {'t': 'aprendiendo programación en Python'}, 'headers': {'Accept': '*/*', 'Accept-Encoding': 'gzip, deflate', 'Host': 'httpbin.org', 'User-Agent': 'python-requests/2.31.0', 'X-Amzn-Trace-Id': 'Root=1-6507baa1-0ebe2be32c70301b48795f50'}, 'origin': '34.91.29.176', 'url': 'https://httpbin.org/get?t=aprendiendo+programación+en+Python'}\n",
            "Respuesta para headers\n",
            "{'headers': {'Accept': '*/*', 'Accept-Encoding': 'gzip, deflate', 'Host': 'httpbin.org', 'User-Agent': 'python-requests/2.31.0', 'X-Amzn-Trace-Id': 'Root=1-6507baa2-506ecc3052d4da7d057b4e40'}}\n",
            "Respuesta para ip\n",
            "{'origin': '34.91.29.176'}\n",
            "Respuesta para user-agent\n",
            "{'user-agent': 'python-requests/2.31.0'}\n",
            "Respuesta para UUID\n",
            "{'uuid': '7e6f3a64-b9ef-44d5-8071-6540bb9b53e0'}\n",
            "Respuesta para JSON\n",
            "{'slideshow': {'author': 'Yours Truly', 'date': 'date of publication', 'slides': [{'title': 'Wake up to WonderWidgets!', 'type': 'all'}, {'items': ['Why <em>WonderWidgets</em> are great', 'Who <em>buys</em> WonderWidgets'], 'title': 'Overview', 'type': 'all'}], 'title': 'Sample Slide Show'}}\n",
            "----------------------------------------\n"
          ]
        }
      ]
    }
  ]
}